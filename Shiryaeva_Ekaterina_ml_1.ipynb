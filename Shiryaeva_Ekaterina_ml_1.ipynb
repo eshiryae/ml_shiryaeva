{
 "cells": [
  {
   "cell_type": "markdown",
   "metadata": {},
   "source": [
    "## Australian Credit Approval\n",
    "\n",
    "Data base: Statlog (Australian Credit Approval)\n",
    "https://archive.ics.uci.edu/ml/datasets/Statlog+%28Australian+Credit+Approval%29"
   ]
  },
  {
   "cell_type": "markdown",
   "metadata": {},
   "source": [
    "База данных содержит информацию о заявках на кредитные карты. Все имена атрибутов и значения были изменены на бессмысленные символы для защиты конфиденциальности данных.  \n",
    "Содержит всего 15 атрибутов.  \n",
    "6 числовых атрибута:       А2, А3, А7, А10, А13, А14  \n",
    "8 категориальных атрибута: А1, А4, A5, A8, A9, A11, A12  \n",
    "И последний - атрибут класса (0 или 1)"
   ]
  },
  {
   "cell_type": "code",
   "execution_count": 1,
   "metadata": {
    "collapsed": true
   },
   "outputs": [],
   "source": [
    "import numpy as np\n",
    "import matplotlib.pyplot as plt\n",
    "import pandas as pd\n",
    "%matplotlib inline"
   ]
  },
  {
   "cell_type": "markdown",
   "metadata": {},
   "source": [
    "*Получаем данные:*"
   ]
  },
  {
   "cell_type": "code",
   "execution_count": 2,
   "metadata": {
    "collapsed": true
   },
   "outputs": [],
   "source": [
    "#url = 'https://archive.ics.uci.edu/ml/machine-learning-databases/statlog/australian/australian.dat'\n",
    "#data = pd.read_csv(url, sep = ' ', engine='python')\n",
    "#data = pd.read_csv('C:/Users/Kate/Desktop/australian.csv', sep = ' ', engine='python')\n",
    "data = pd.read_csv('C:/Users/eshiryae.CCR/Desktop/australian.csv', sep = ' ', engine='python')"
   ]
  },
  {
   "cell_type": "code",
   "execution_count": 3,
   "metadata": {},
   "outputs": [
    {
     "data": {
      "text/plain": [
       "pandas.core.frame.DataFrame"
      ]
     },
     "execution_count": 3,
     "metadata": {},
     "output_type": "execute_result"
    }
   ],
   "source": [
    "type(data)"
   ]
  },
  {
   "cell_type": "markdown",
   "metadata": {},
   "source": [
    "*Добавим названия столбцов:*"
   ]
  },
  {
   "cell_type": "code",
   "execution_count": 4,
   "metadata": {
    "collapsed": true
   },
   "outputs": [],
   "source": [
    "data.columns=[u'A1', u'A2', u'A3', u'A4', u'A5', u'A6', u'A7', u'A8', u'A9', u'A10', u'A11', u'A12', u'A13', u'A14', u'class' ]"
   ]
  },
  {
   "cell_type": "code",
   "execution_count": 5,
   "metadata": {},
   "outputs": [
    {
     "data": {
      "text/html": [
       "<div>\n",
       "<style>\n",
       "    .dataframe thead tr:only-child th {\n",
       "        text-align: right;\n",
       "    }\n",
       "\n",
       "    .dataframe thead th {\n",
       "        text-align: left;\n",
       "    }\n",
       "\n",
       "    .dataframe tbody tr th {\n",
       "        vertical-align: top;\n",
       "    }\n",
       "</style>\n",
       "<table border=\"1\" class=\"dataframe\">\n",
       "  <thead>\n",
       "    <tr style=\"text-align: right;\">\n",
       "      <th></th>\n",
       "      <th>A1</th>\n",
       "      <th>A2</th>\n",
       "      <th>A3</th>\n",
       "      <th>A4</th>\n",
       "      <th>A5</th>\n",
       "      <th>A6</th>\n",
       "      <th>A7</th>\n",
       "      <th>A8</th>\n",
       "      <th>A9</th>\n",
       "      <th>A10</th>\n",
       "      <th>A11</th>\n",
       "      <th>A12</th>\n",
       "      <th>A13</th>\n",
       "      <th>A14</th>\n",
       "      <th>class</th>\n",
       "    </tr>\n",
       "  </thead>\n",
       "  <tbody>\n",
       "    <tr>\n",
       "      <th>0</th>\n",
       "      <td>0</td>\n",
       "      <td>22.67</td>\n",
       "      <td>7.000</td>\n",
       "      <td>2</td>\n",
       "      <td>8</td>\n",
       "      <td>4</td>\n",
       "      <td>0.165</td>\n",
       "      <td>0</td>\n",
       "      <td>0</td>\n",
       "      <td>0</td>\n",
       "      <td>0</td>\n",
       "      <td>2</td>\n",
       "      <td>160</td>\n",
       "      <td>1</td>\n",
       "      <td>0</td>\n",
       "    </tr>\n",
       "    <tr>\n",
       "      <th>1</th>\n",
       "      <td>0</td>\n",
       "      <td>29.58</td>\n",
       "      <td>1.750</td>\n",
       "      <td>1</td>\n",
       "      <td>4</td>\n",
       "      <td>4</td>\n",
       "      <td>1.250</td>\n",
       "      <td>0</td>\n",
       "      <td>0</td>\n",
       "      <td>0</td>\n",
       "      <td>1</td>\n",
       "      <td>2</td>\n",
       "      <td>280</td>\n",
       "      <td>1</td>\n",
       "      <td>0</td>\n",
       "    </tr>\n",
       "    <tr>\n",
       "      <th>2</th>\n",
       "      <td>0</td>\n",
       "      <td>21.67</td>\n",
       "      <td>11.500</td>\n",
       "      <td>1</td>\n",
       "      <td>5</td>\n",
       "      <td>3</td>\n",
       "      <td>0.000</td>\n",
       "      <td>1</td>\n",
       "      <td>1</td>\n",
       "      <td>11</td>\n",
       "      <td>1</td>\n",
       "      <td>2</td>\n",
       "      <td>0</td>\n",
       "      <td>1</td>\n",
       "      <td>1</td>\n",
       "    </tr>\n",
       "    <tr>\n",
       "      <th>3</th>\n",
       "      <td>1</td>\n",
       "      <td>20.17</td>\n",
       "      <td>8.170</td>\n",
       "      <td>2</td>\n",
       "      <td>6</td>\n",
       "      <td>4</td>\n",
       "      <td>1.960</td>\n",
       "      <td>1</td>\n",
       "      <td>1</td>\n",
       "      <td>14</td>\n",
       "      <td>0</td>\n",
       "      <td>2</td>\n",
       "      <td>60</td>\n",
       "      <td>159</td>\n",
       "      <td>1</td>\n",
       "    </tr>\n",
       "    <tr>\n",
       "      <th>4</th>\n",
       "      <td>0</td>\n",
       "      <td>15.83</td>\n",
       "      <td>0.585</td>\n",
       "      <td>2</td>\n",
       "      <td>8</td>\n",
       "      <td>8</td>\n",
       "      <td>1.500</td>\n",
       "      <td>1</td>\n",
       "      <td>1</td>\n",
       "      <td>2</td>\n",
       "      <td>0</td>\n",
       "      <td>2</td>\n",
       "      <td>100</td>\n",
       "      <td>1</td>\n",
       "      <td>1</td>\n",
       "    </tr>\n",
       "    <tr>\n",
       "      <th>5</th>\n",
       "      <td>1</td>\n",
       "      <td>17.42</td>\n",
       "      <td>6.500</td>\n",
       "      <td>2</td>\n",
       "      <td>3</td>\n",
       "      <td>4</td>\n",
       "      <td>0.125</td>\n",
       "      <td>0</td>\n",
       "      <td>0</td>\n",
       "      <td>0</td>\n",
       "      <td>0</td>\n",
       "      <td>2</td>\n",
       "      <td>60</td>\n",
       "      <td>101</td>\n",
       "      <td>0</td>\n",
       "    </tr>\n",
       "    <tr>\n",
       "      <th>6</th>\n",
       "      <td>0</td>\n",
       "      <td>58.67</td>\n",
       "      <td>4.460</td>\n",
       "      <td>2</td>\n",
       "      <td>11</td>\n",
       "      <td>8</td>\n",
       "      <td>3.040</td>\n",
       "      <td>1</td>\n",
       "      <td>1</td>\n",
       "      <td>6</td>\n",
       "      <td>0</td>\n",
       "      <td>2</td>\n",
       "      <td>43</td>\n",
       "      <td>561</td>\n",
       "      <td>1</td>\n",
       "    </tr>\n",
       "    <tr>\n",
       "      <th>7</th>\n",
       "      <td>1</td>\n",
       "      <td>27.83</td>\n",
       "      <td>1.000</td>\n",
       "      <td>1</td>\n",
       "      <td>2</td>\n",
       "      <td>8</td>\n",
       "      <td>3.000</td>\n",
       "      <td>0</td>\n",
       "      <td>0</td>\n",
       "      <td>0</td>\n",
       "      <td>0</td>\n",
       "      <td>2</td>\n",
       "      <td>176</td>\n",
       "      <td>538</td>\n",
       "      <td>0</td>\n",
       "    </tr>\n",
       "    <tr>\n",
       "      <th>8</th>\n",
       "      <td>0</td>\n",
       "      <td>55.75</td>\n",
       "      <td>7.080</td>\n",
       "      <td>2</td>\n",
       "      <td>4</td>\n",
       "      <td>8</td>\n",
       "      <td>6.750</td>\n",
       "      <td>1</td>\n",
       "      <td>1</td>\n",
       "      <td>3</td>\n",
       "      <td>1</td>\n",
       "      <td>2</td>\n",
       "      <td>100</td>\n",
       "      <td>51</td>\n",
       "      <td>0</td>\n",
       "    </tr>\n",
       "    <tr>\n",
       "      <th>9</th>\n",
       "      <td>1</td>\n",
       "      <td>33.50</td>\n",
       "      <td>1.750</td>\n",
       "      <td>2</td>\n",
       "      <td>14</td>\n",
       "      <td>8</td>\n",
       "      <td>4.500</td>\n",
       "      <td>1</td>\n",
       "      <td>1</td>\n",
       "      <td>4</td>\n",
       "      <td>1</td>\n",
       "      <td>2</td>\n",
       "      <td>253</td>\n",
       "      <td>858</td>\n",
       "      <td>1</td>\n",
       "    </tr>\n",
       "    <tr>\n",
       "      <th>10</th>\n",
       "      <td>1</td>\n",
       "      <td>41.42</td>\n",
       "      <td>5.000</td>\n",
       "      <td>2</td>\n",
       "      <td>11</td>\n",
       "      <td>8</td>\n",
       "      <td>5.000</td>\n",
       "      <td>1</td>\n",
       "      <td>1</td>\n",
       "      <td>6</td>\n",
       "      <td>1</td>\n",
       "      <td>2</td>\n",
       "      <td>470</td>\n",
       "      <td>1</td>\n",
       "      <td>1</td>\n",
       "    </tr>\n",
       "    <tr>\n",
       "      <th>11</th>\n",
       "      <td>1</td>\n",
       "      <td>20.67</td>\n",
       "      <td>1.250</td>\n",
       "      <td>1</td>\n",
       "      <td>8</td>\n",
       "      <td>8</td>\n",
       "      <td>1.375</td>\n",
       "      <td>1</td>\n",
       "      <td>1</td>\n",
       "      <td>3</td>\n",
       "      <td>1</td>\n",
       "      <td>2</td>\n",
       "      <td>140</td>\n",
       "      <td>211</td>\n",
       "      <td>0</td>\n",
       "    </tr>\n",
       "    <tr>\n",
       "      <th>12</th>\n",
       "      <td>1</td>\n",
       "      <td>34.92</td>\n",
       "      <td>5.000</td>\n",
       "      <td>2</td>\n",
       "      <td>14</td>\n",
       "      <td>8</td>\n",
       "      <td>7.500</td>\n",
       "      <td>1</td>\n",
       "      <td>1</td>\n",
       "      <td>6</td>\n",
       "      <td>1</td>\n",
       "      <td>2</td>\n",
       "      <td>0</td>\n",
       "      <td>1001</td>\n",
       "      <td>1</td>\n",
       "    </tr>\n",
       "    <tr>\n",
       "      <th>13</th>\n",
       "      <td>1</td>\n",
       "      <td>58.58</td>\n",
       "      <td>2.710</td>\n",
       "      <td>2</td>\n",
       "      <td>8</td>\n",
       "      <td>4</td>\n",
       "      <td>2.415</td>\n",
       "      <td>0</td>\n",
       "      <td>0</td>\n",
       "      <td>0</td>\n",
       "      <td>1</td>\n",
       "      <td>2</td>\n",
       "      <td>320</td>\n",
       "      <td>1</td>\n",
       "      <td>0</td>\n",
       "    </tr>\n",
       "    <tr>\n",
       "      <th>14</th>\n",
       "      <td>1</td>\n",
       "      <td>48.08</td>\n",
       "      <td>6.040</td>\n",
       "      <td>2</td>\n",
       "      <td>4</td>\n",
       "      <td>4</td>\n",
       "      <td>0.040</td>\n",
       "      <td>0</td>\n",
       "      <td>0</td>\n",
       "      <td>0</td>\n",
       "      <td>0</td>\n",
       "      <td>2</td>\n",
       "      <td>0</td>\n",
       "      <td>2691</td>\n",
       "      <td>1</td>\n",
       "    </tr>\n",
       "    <tr>\n",
       "      <th>15</th>\n",
       "      <td>1</td>\n",
       "      <td>29.58</td>\n",
       "      <td>4.500</td>\n",
       "      <td>2</td>\n",
       "      <td>9</td>\n",
       "      <td>4</td>\n",
       "      <td>7.500</td>\n",
       "      <td>1</td>\n",
       "      <td>1</td>\n",
       "      <td>2</td>\n",
       "      <td>1</td>\n",
       "      <td>2</td>\n",
       "      <td>330</td>\n",
       "      <td>1</td>\n",
       "      <td>1</td>\n",
       "    </tr>\n",
       "    <tr>\n",
       "      <th>16</th>\n",
       "      <td>0</td>\n",
       "      <td>18.92</td>\n",
       "      <td>9.000</td>\n",
       "      <td>2</td>\n",
       "      <td>6</td>\n",
       "      <td>4</td>\n",
       "      <td>0.750</td>\n",
       "      <td>1</td>\n",
       "      <td>1</td>\n",
       "      <td>2</td>\n",
       "      <td>0</td>\n",
       "      <td>2</td>\n",
       "      <td>88</td>\n",
       "      <td>592</td>\n",
       "      <td>1</td>\n",
       "    </tr>\n",
       "    <tr>\n",
       "      <th>17</th>\n",
       "      <td>1</td>\n",
       "      <td>20.00</td>\n",
       "      <td>1.250</td>\n",
       "      <td>1</td>\n",
       "      <td>4</td>\n",
       "      <td>4</td>\n",
       "      <td>0.125</td>\n",
       "      <td>0</td>\n",
       "      <td>0</td>\n",
       "      <td>0</td>\n",
       "      <td>0</td>\n",
       "      <td>2</td>\n",
       "      <td>140</td>\n",
       "      <td>5</td>\n",
       "      <td>0</td>\n",
       "    </tr>\n",
       "    <tr>\n",
       "      <th>18</th>\n",
       "      <td>0</td>\n",
       "      <td>22.42</td>\n",
       "      <td>5.665</td>\n",
       "      <td>2</td>\n",
       "      <td>11</td>\n",
       "      <td>4</td>\n",
       "      <td>2.585</td>\n",
       "      <td>1</td>\n",
       "      <td>1</td>\n",
       "      <td>7</td>\n",
       "      <td>0</td>\n",
       "      <td>2</td>\n",
       "      <td>129</td>\n",
       "      <td>3258</td>\n",
       "      <td>1</td>\n",
       "    </tr>\n",
       "    <tr>\n",
       "      <th>19</th>\n",
       "      <td>0</td>\n",
       "      <td>28.17</td>\n",
       "      <td>0.585</td>\n",
       "      <td>2</td>\n",
       "      <td>6</td>\n",
       "      <td>4</td>\n",
       "      <td>0.040</td>\n",
       "      <td>0</td>\n",
       "      <td>0</td>\n",
       "      <td>0</td>\n",
       "      <td>0</td>\n",
       "      <td>2</td>\n",
       "      <td>260</td>\n",
       "      <td>1005</td>\n",
       "      <td>0</td>\n",
       "    </tr>\n",
       "    <tr>\n",
       "      <th>20</th>\n",
       "      <td>0</td>\n",
       "      <td>19.17</td>\n",
       "      <td>0.585</td>\n",
       "      <td>1</td>\n",
       "      <td>6</td>\n",
       "      <td>4</td>\n",
       "      <td>0.585</td>\n",
       "      <td>1</td>\n",
       "      <td>0</td>\n",
       "      <td>0</td>\n",
       "      <td>1</td>\n",
       "      <td>2</td>\n",
       "      <td>160</td>\n",
       "      <td>1</td>\n",
       "      <td>0</td>\n",
       "    </tr>\n",
       "    <tr>\n",
       "      <th>21</th>\n",
       "      <td>1</td>\n",
       "      <td>41.17</td>\n",
       "      <td>1.335</td>\n",
       "      <td>2</td>\n",
       "      <td>2</td>\n",
       "      <td>4</td>\n",
       "      <td>0.165</td>\n",
       "      <td>0</td>\n",
       "      <td>0</td>\n",
       "      <td>0</td>\n",
       "      <td>0</td>\n",
       "      <td>2</td>\n",
       "      <td>168</td>\n",
       "      <td>1</td>\n",
       "      <td>0</td>\n",
       "    </tr>\n",
       "    <tr>\n",
       "      <th>22</th>\n",
       "      <td>1</td>\n",
       "      <td>41.58</td>\n",
       "      <td>1.750</td>\n",
       "      <td>2</td>\n",
       "      <td>4</td>\n",
       "      <td>4</td>\n",
       "      <td>0.210</td>\n",
       "      <td>1</td>\n",
       "      <td>0</td>\n",
       "      <td>0</td>\n",
       "      <td>0</td>\n",
       "      <td>2</td>\n",
       "      <td>160</td>\n",
       "      <td>1</td>\n",
       "      <td>0</td>\n",
       "    </tr>\n",
       "    <tr>\n",
       "      <th>23</th>\n",
       "      <td>1</td>\n",
       "      <td>19.50</td>\n",
       "      <td>9.585</td>\n",
       "      <td>2</td>\n",
       "      <td>6</td>\n",
       "      <td>4</td>\n",
       "      <td>0.790</td>\n",
       "      <td>0</td>\n",
       "      <td>0</td>\n",
       "      <td>0</td>\n",
       "      <td>0</td>\n",
       "      <td>2</td>\n",
       "      <td>80</td>\n",
       "      <td>351</td>\n",
       "      <td>0</td>\n",
       "    </tr>\n",
       "    <tr>\n",
       "      <th>24</th>\n",
       "      <td>1</td>\n",
       "      <td>32.75</td>\n",
       "      <td>1.500</td>\n",
       "      <td>2</td>\n",
       "      <td>13</td>\n",
       "      <td>8</td>\n",
       "      <td>5.500</td>\n",
       "      <td>1</td>\n",
       "      <td>1</td>\n",
       "      <td>3</td>\n",
       "      <td>1</td>\n",
       "      <td>2</td>\n",
       "      <td>0</td>\n",
       "      <td>1</td>\n",
       "      <td>1</td>\n",
       "    </tr>\n",
       "    <tr>\n",
       "      <th>25</th>\n",
       "      <td>1</td>\n",
       "      <td>22.50</td>\n",
       "      <td>0.125</td>\n",
       "      <td>1</td>\n",
       "      <td>4</td>\n",
       "      <td>4</td>\n",
       "      <td>0.125</td>\n",
       "      <td>0</td>\n",
       "      <td>0</td>\n",
       "      <td>0</td>\n",
       "      <td>0</td>\n",
       "      <td>2</td>\n",
       "      <td>200</td>\n",
       "      <td>71</td>\n",
       "      <td>0</td>\n",
       "    </tr>\n",
       "    <tr>\n",
       "      <th>26</th>\n",
       "      <td>1</td>\n",
       "      <td>33.17</td>\n",
       "      <td>3.040</td>\n",
       "      <td>1</td>\n",
       "      <td>8</td>\n",
       "      <td>8</td>\n",
       "      <td>2.040</td>\n",
       "      <td>1</td>\n",
       "      <td>1</td>\n",
       "      <td>1</td>\n",
       "      <td>1</td>\n",
       "      <td>2</td>\n",
       "      <td>180</td>\n",
       "      <td>18028</td>\n",
       "      <td>1</td>\n",
       "    </tr>\n",
       "    <tr>\n",
       "      <th>27</th>\n",
       "      <td>0</td>\n",
       "      <td>30.67</td>\n",
       "      <td>12.000</td>\n",
       "      <td>2</td>\n",
       "      <td>8</td>\n",
       "      <td>4</td>\n",
       "      <td>2.000</td>\n",
       "      <td>1</td>\n",
       "      <td>1</td>\n",
       "      <td>1</td>\n",
       "      <td>0</td>\n",
       "      <td>2</td>\n",
       "      <td>220</td>\n",
       "      <td>20</td>\n",
       "      <td>1</td>\n",
       "    </tr>\n",
       "    <tr>\n",
       "      <th>28</th>\n",
       "      <td>1</td>\n",
       "      <td>23.08</td>\n",
       "      <td>2.500</td>\n",
       "      <td>2</td>\n",
       "      <td>8</td>\n",
       "      <td>4</td>\n",
       "      <td>1.085</td>\n",
       "      <td>1</td>\n",
       "      <td>1</td>\n",
       "      <td>11</td>\n",
       "      <td>1</td>\n",
       "      <td>2</td>\n",
       "      <td>60</td>\n",
       "      <td>2185</td>\n",
       "      <td>1</td>\n",
       "    </tr>\n",
       "    <tr>\n",
       "      <th>29</th>\n",
       "      <td>1</td>\n",
       "      <td>27.00</td>\n",
       "      <td>0.750</td>\n",
       "      <td>2</td>\n",
       "      <td>8</td>\n",
       "      <td>8</td>\n",
       "      <td>4.250</td>\n",
       "      <td>1</td>\n",
       "      <td>1</td>\n",
       "      <td>3</td>\n",
       "      <td>1</td>\n",
       "      <td>2</td>\n",
       "      <td>312</td>\n",
       "      <td>151</td>\n",
       "      <td>1</td>\n",
       "    </tr>\n",
       "    <tr>\n",
       "      <th>...</th>\n",
       "      <td>...</td>\n",
       "      <td>...</td>\n",
       "      <td>...</td>\n",
       "      <td>...</td>\n",
       "      <td>...</td>\n",
       "      <td>...</td>\n",
       "      <td>...</td>\n",
       "      <td>...</td>\n",
       "      <td>...</td>\n",
       "      <td>...</td>\n",
       "      <td>...</td>\n",
       "      <td>...</td>\n",
       "      <td>...</td>\n",
       "      <td>...</td>\n",
       "      <td>...</td>\n",
       "    </tr>\n",
       "    <tr>\n",
       "      <th>659</th>\n",
       "      <td>1</td>\n",
       "      <td>26.67</td>\n",
       "      <td>2.710</td>\n",
       "      <td>1</td>\n",
       "      <td>13</td>\n",
       "      <td>4</td>\n",
       "      <td>5.250</td>\n",
       "      <td>1</td>\n",
       "      <td>1</td>\n",
       "      <td>1</td>\n",
       "      <td>0</td>\n",
       "      <td>2</td>\n",
       "      <td>211</td>\n",
       "      <td>1</td>\n",
       "      <td>1</td>\n",
       "    </tr>\n",
       "    <tr>\n",
       "      <th>660</th>\n",
       "      <td>0</td>\n",
       "      <td>22.50</td>\n",
       "      <td>0.415</td>\n",
       "      <td>2</td>\n",
       "      <td>3</td>\n",
       "      <td>4</td>\n",
       "      <td>0.335</td>\n",
       "      <td>0</td>\n",
       "      <td>0</td>\n",
       "      <td>0</td>\n",
       "      <td>1</td>\n",
       "      <td>1</td>\n",
       "      <td>144</td>\n",
       "      <td>1</td>\n",
       "      <td>0</td>\n",
       "    </tr>\n",
       "    <tr>\n",
       "      <th>661</th>\n",
       "      <td>1</td>\n",
       "      <td>39.92</td>\n",
       "      <td>0.540</td>\n",
       "      <td>1</td>\n",
       "      <td>6</td>\n",
       "      <td>4</td>\n",
       "      <td>0.500</td>\n",
       "      <td>1</td>\n",
       "      <td>1</td>\n",
       "      <td>3</td>\n",
       "      <td>0</td>\n",
       "      <td>2</td>\n",
       "      <td>200</td>\n",
       "      <td>1001</td>\n",
       "      <td>1</td>\n",
       "    </tr>\n",
       "    <tr>\n",
       "      <th>662</th>\n",
       "      <td>0</td>\n",
       "      <td>26.08</td>\n",
       "      <td>8.665</td>\n",
       "      <td>2</td>\n",
       "      <td>6</td>\n",
       "      <td>4</td>\n",
       "      <td>1.415</td>\n",
       "      <td>1</td>\n",
       "      <td>0</td>\n",
       "      <td>0</td>\n",
       "      <td>0</td>\n",
       "      <td>2</td>\n",
       "      <td>160</td>\n",
       "      <td>151</td>\n",
       "      <td>1</td>\n",
       "    </tr>\n",
       "    <tr>\n",
       "      <th>663</th>\n",
       "      <td>1</td>\n",
       "      <td>20.00</td>\n",
       "      <td>0.000</td>\n",
       "      <td>2</td>\n",
       "      <td>2</td>\n",
       "      <td>4</td>\n",
       "      <td>0.500</td>\n",
       "      <td>0</td>\n",
       "      <td>0</td>\n",
       "      <td>0</td>\n",
       "      <td>0</td>\n",
       "      <td>2</td>\n",
       "      <td>144</td>\n",
       "      <td>1</td>\n",
       "      <td>0</td>\n",
       "    </tr>\n",
       "    <tr>\n",
       "      <th>664</th>\n",
       "      <td>1</td>\n",
       "      <td>31.57</td>\n",
       "      <td>4.000</td>\n",
       "      <td>1</td>\n",
       "      <td>3</td>\n",
       "      <td>4</td>\n",
       "      <td>0.085</td>\n",
       "      <td>0</td>\n",
       "      <td>0</td>\n",
       "      <td>0</td>\n",
       "      <td>1</td>\n",
       "      <td>2</td>\n",
       "      <td>411</td>\n",
       "      <td>1</td>\n",
       "      <td>0</td>\n",
       "    </tr>\n",
       "    <tr>\n",
       "      <th>665</th>\n",
       "      <td>1</td>\n",
       "      <td>26.75</td>\n",
       "      <td>4.500</td>\n",
       "      <td>1</td>\n",
       "      <td>8</td>\n",
       "      <td>5</td>\n",
       "      <td>2.500</td>\n",
       "      <td>0</td>\n",
       "      <td>0</td>\n",
       "      <td>0</td>\n",
       "      <td>0</td>\n",
       "      <td>2</td>\n",
       "      <td>200</td>\n",
       "      <td>1211</td>\n",
       "      <td>0</td>\n",
       "    </tr>\n",
       "    <tr>\n",
       "      <th>666</th>\n",
       "      <td>0</td>\n",
       "      <td>24.92</td>\n",
       "      <td>1.250</td>\n",
       "      <td>2</td>\n",
       "      <td>1</td>\n",
       "      <td>1</td>\n",
       "      <td>0.000</td>\n",
       "      <td>1</td>\n",
       "      <td>0</td>\n",
       "      <td>0</td>\n",
       "      <td>0</td>\n",
       "      <td>2</td>\n",
       "      <td>80</td>\n",
       "      <td>1</td>\n",
       "      <td>0</td>\n",
       "    </tr>\n",
       "    <tr>\n",
       "      <th>667</th>\n",
       "      <td>0</td>\n",
       "      <td>32.25</td>\n",
       "      <td>1.500</td>\n",
       "      <td>2</td>\n",
       "      <td>8</td>\n",
       "      <td>4</td>\n",
       "      <td>0.250</td>\n",
       "      <td>0</td>\n",
       "      <td>0</td>\n",
       "      <td>0</td>\n",
       "      <td>1</td>\n",
       "      <td>2</td>\n",
       "      <td>372</td>\n",
       "      <td>123</td>\n",
       "      <td>0</td>\n",
       "    </tr>\n",
       "    <tr>\n",
       "      <th>668</th>\n",
       "      <td>1</td>\n",
       "      <td>17.67</td>\n",
       "      <td>4.460</td>\n",
       "      <td>2</td>\n",
       "      <td>8</td>\n",
       "      <td>4</td>\n",
       "      <td>0.250</td>\n",
       "      <td>0</td>\n",
       "      <td>0</td>\n",
       "      <td>0</td>\n",
       "      <td>0</td>\n",
       "      <td>1</td>\n",
       "      <td>80</td>\n",
       "      <td>1</td>\n",
       "      <td>0</td>\n",
       "    </tr>\n",
       "    <tr>\n",
       "      <th>669</th>\n",
       "      <td>0</td>\n",
       "      <td>37.75</td>\n",
       "      <td>5.500</td>\n",
       "      <td>2</td>\n",
       "      <td>11</td>\n",
       "      <td>4</td>\n",
       "      <td>0.125</td>\n",
       "      <td>1</td>\n",
       "      <td>0</td>\n",
       "      <td>0</td>\n",
       "      <td>1</td>\n",
       "      <td>2</td>\n",
       "      <td>228</td>\n",
       "      <td>1</td>\n",
       "      <td>1</td>\n",
       "    </tr>\n",
       "    <tr>\n",
       "      <th>670</th>\n",
       "      <td>1</td>\n",
       "      <td>22.67</td>\n",
       "      <td>2.540</td>\n",
       "      <td>1</td>\n",
       "      <td>8</td>\n",
       "      <td>8</td>\n",
       "      <td>2.585</td>\n",
       "      <td>1</td>\n",
       "      <td>0</td>\n",
       "      <td>0</td>\n",
       "      <td>0</td>\n",
       "      <td>2</td>\n",
       "      <td>0</td>\n",
       "      <td>1</td>\n",
       "      <td>1</td>\n",
       "    </tr>\n",
       "    <tr>\n",
       "      <th>671</th>\n",
       "      <td>0</td>\n",
       "      <td>17.92</td>\n",
       "      <td>10.210</td>\n",
       "      <td>2</td>\n",
       "      <td>1</td>\n",
       "      <td>1</td>\n",
       "      <td>0.000</td>\n",
       "      <td>0</td>\n",
       "      <td>0</td>\n",
       "      <td>0</td>\n",
       "      <td>0</td>\n",
       "      <td>2</td>\n",
       "      <td>0</td>\n",
       "      <td>51</td>\n",
       "      <td>0</td>\n",
       "    </tr>\n",
       "    <tr>\n",
       "      <th>672</th>\n",
       "      <td>1</td>\n",
       "      <td>24.42</td>\n",
       "      <td>12.335</td>\n",
       "      <td>2</td>\n",
       "      <td>11</td>\n",
       "      <td>8</td>\n",
       "      <td>1.585</td>\n",
       "      <td>1</td>\n",
       "      <td>0</td>\n",
       "      <td>0</td>\n",
       "      <td>1</td>\n",
       "      <td>2</td>\n",
       "      <td>120</td>\n",
       "      <td>1</td>\n",
       "      <td>1</td>\n",
       "    </tr>\n",
       "    <tr>\n",
       "      <th>673</th>\n",
       "      <td>0</td>\n",
       "      <td>25.75</td>\n",
       "      <td>0.500</td>\n",
       "      <td>2</td>\n",
       "      <td>8</td>\n",
       "      <td>8</td>\n",
       "      <td>0.875</td>\n",
       "      <td>1</td>\n",
       "      <td>0</td>\n",
       "      <td>0</td>\n",
       "      <td>1</td>\n",
       "      <td>2</td>\n",
       "      <td>491</td>\n",
       "      <td>1</td>\n",
       "      <td>1</td>\n",
       "    </tr>\n",
       "    <tr>\n",
       "      <th>674</th>\n",
       "      <td>1</td>\n",
       "      <td>26.17</td>\n",
       "      <td>12.500</td>\n",
       "      <td>1</td>\n",
       "      <td>4</td>\n",
       "      <td>8</td>\n",
       "      <td>1.250</td>\n",
       "      <td>0</td>\n",
       "      <td>0</td>\n",
       "      <td>0</td>\n",
       "      <td>1</td>\n",
       "      <td>2</td>\n",
       "      <td>0</td>\n",
       "      <td>18</td>\n",
       "      <td>0</td>\n",
       "    </tr>\n",
       "    <tr>\n",
       "      <th>675</th>\n",
       "      <td>0</td>\n",
       "      <td>22.75</td>\n",
       "      <td>6.165</td>\n",
       "      <td>2</td>\n",
       "      <td>6</td>\n",
       "      <td>4</td>\n",
       "      <td>0.165</td>\n",
       "      <td>0</td>\n",
       "      <td>0</td>\n",
       "      <td>0</td>\n",
       "      <td>0</td>\n",
       "      <td>2</td>\n",
       "      <td>220</td>\n",
       "      <td>1001</td>\n",
       "      <td>0</td>\n",
       "    </tr>\n",
       "    <tr>\n",
       "      <th>676</th>\n",
       "      <td>1</td>\n",
       "      <td>23.00</td>\n",
       "      <td>0.750</td>\n",
       "      <td>2</td>\n",
       "      <td>7</td>\n",
       "      <td>4</td>\n",
       "      <td>0.500</td>\n",
       "      <td>1</td>\n",
       "      <td>0</td>\n",
       "      <td>0</td>\n",
       "      <td>1</td>\n",
       "      <td>1</td>\n",
       "      <td>320</td>\n",
       "      <td>1</td>\n",
       "      <td>0</td>\n",
       "    </tr>\n",
       "    <tr>\n",
       "      <th>677</th>\n",
       "      <td>1</td>\n",
       "      <td>25.67</td>\n",
       "      <td>0.290</td>\n",
       "      <td>1</td>\n",
       "      <td>8</td>\n",
       "      <td>4</td>\n",
       "      <td>1.500</td>\n",
       "      <td>0</td>\n",
       "      <td>0</td>\n",
       "      <td>0</td>\n",
       "      <td>1</td>\n",
       "      <td>2</td>\n",
       "      <td>160</td>\n",
       "      <td>1</td>\n",
       "      <td>0</td>\n",
       "    </tr>\n",
       "    <tr>\n",
       "      <th>678</th>\n",
       "      <td>1</td>\n",
       "      <td>48.58</td>\n",
       "      <td>0.205</td>\n",
       "      <td>1</td>\n",
       "      <td>4</td>\n",
       "      <td>4</td>\n",
       "      <td>0.250</td>\n",
       "      <td>1</td>\n",
       "      <td>1</td>\n",
       "      <td>11</td>\n",
       "      <td>0</td>\n",
       "      <td>2</td>\n",
       "      <td>380</td>\n",
       "      <td>2733</td>\n",
       "      <td>1</td>\n",
       "    </tr>\n",
       "    <tr>\n",
       "      <th>679</th>\n",
       "      <td>1</td>\n",
       "      <td>21.17</td>\n",
       "      <td>0.000</td>\n",
       "      <td>2</td>\n",
       "      <td>8</td>\n",
       "      <td>4</td>\n",
       "      <td>0.500</td>\n",
       "      <td>0</td>\n",
       "      <td>0</td>\n",
       "      <td>0</td>\n",
       "      <td>1</td>\n",
       "      <td>1</td>\n",
       "      <td>0</td>\n",
       "      <td>1</td>\n",
       "      <td>0</td>\n",
       "    </tr>\n",
       "    <tr>\n",
       "      <th>680</th>\n",
       "      <td>1</td>\n",
       "      <td>35.25</td>\n",
       "      <td>16.500</td>\n",
       "      <td>1</td>\n",
       "      <td>8</td>\n",
       "      <td>4</td>\n",
       "      <td>4.000</td>\n",
       "      <td>1</td>\n",
       "      <td>0</td>\n",
       "      <td>0</td>\n",
       "      <td>0</td>\n",
       "      <td>2</td>\n",
       "      <td>80</td>\n",
       "      <td>1</td>\n",
       "      <td>0</td>\n",
       "    </tr>\n",
       "    <tr>\n",
       "      <th>681</th>\n",
       "      <td>0</td>\n",
       "      <td>22.92</td>\n",
       "      <td>11.585</td>\n",
       "      <td>2</td>\n",
       "      <td>13</td>\n",
       "      <td>4</td>\n",
       "      <td>0.040</td>\n",
       "      <td>1</td>\n",
       "      <td>0</td>\n",
       "      <td>0</td>\n",
       "      <td>0</td>\n",
       "      <td>2</td>\n",
       "      <td>80</td>\n",
       "      <td>1350</td>\n",
       "      <td>1</td>\n",
       "    </tr>\n",
       "    <tr>\n",
       "      <th>682</th>\n",
       "      <td>0</td>\n",
       "      <td>48.17</td>\n",
       "      <td>1.335</td>\n",
       "      <td>2</td>\n",
       "      <td>3</td>\n",
       "      <td>7</td>\n",
       "      <td>0.335</td>\n",
       "      <td>0</td>\n",
       "      <td>0</td>\n",
       "      <td>0</td>\n",
       "      <td>0</td>\n",
       "      <td>2</td>\n",
       "      <td>0</td>\n",
       "      <td>121</td>\n",
       "      <td>0</td>\n",
       "    </tr>\n",
       "    <tr>\n",
       "      <th>683</th>\n",
       "      <td>1</td>\n",
       "      <td>43.00</td>\n",
       "      <td>0.290</td>\n",
       "      <td>1</td>\n",
       "      <td>13</td>\n",
       "      <td>8</td>\n",
       "      <td>1.750</td>\n",
       "      <td>1</td>\n",
       "      <td>1</td>\n",
       "      <td>8</td>\n",
       "      <td>0</td>\n",
       "      <td>2</td>\n",
       "      <td>100</td>\n",
       "      <td>376</td>\n",
       "      <td>1</td>\n",
       "    </tr>\n",
       "    <tr>\n",
       "      <th>684</th>\n",
       "      <td>1</td>\n",
       "      <td>31.57</td>\n",
       "      <td>10.500</td>\n",
       "      <td>2</td>\n",
       "      <td>14</td>\n",
       "      <td>4</td>\n",
       "      <td>6.500</td>\n",
       "      <td>1</td>\n",
       "      <td>0</td>\n",
       "      <td>0</td>\n",
       "      <td>0</td>\n",
       "      <td>2</td>\n",
       "      <td>0</td>\n",
       "      <td>1</td>\n",
       "      <td>1</td>\n",
       "    </tr>\n",
       "    <tr>\n",
       "      <th>685</th>\n",
       "      <td>1</td>\n",
       "      <td>20.67</td>\n",
       "      <td>0.415</td>\n",
       "      <td>2</td>\n",
       "      <td>8</td>\n",
       "      <td>4</td>\n",
       "      <td>0.125</td>\n",
       "      <td>0</td>\n",
       "      <td>0</td>\n",
       "      <td>0</td>\n",
       "      <td>0</td>\n",
       "      <td>2</td>\n",
       "      <td>0</td>\n",
       "      <td>45</td>\n",
       "      <td>0</td>\n",
       "    </tr>\n",
       "    <tr>\n",
       "      <th>686</th>\n",
       "      <td>0</td>\n",
       "      <td>18.83</td>\n",
       "      <td>9.540</td>\n",
       "      <td>2</td>\n",
       "      <td>6</td>\n",
       "      <td>4</td>\n",
       "      <td>0.085</td>\n",
       "      <td>1</td>\n",
       "      <td>0</td>\n",
       "      <td>0</td>\n",
       "      <td>0</td>\n",
       "      <td>2</td>\n",
       "      <td>100</td>\n",
       "      <td>1</td>\n",
       "      <td>1</td>\n",
       "    </tr>\n",
       "    <tr>\n",
       "      <th>687</th>\n",
       "      <td>0</td>\n",
       "      <td>27.42</td>\n",
       "      <td>14.500</td>\n",
       "      <td>2</td>\n",
       "      <td>14</td>\n",
       "      <td>8</td>\n",
       "      <td>3.085</td>\n",
       "      <td>1</td>\n",
       "      <td>1</td>\n",
       "      <td>1</td>\n",
       "      <td>0</td>\n",
       "      <td>2</td>\n",
       "      <td>120</td>\n",
       "      <td>12</td>\n",
       "      <td>1</td>\n",
       "    </tr>\n",
       "    <tr>\n",
       "      <th>688</th>\n",
       "      <td>1</td>\n",
       "      <td>41.00</td>\n",
       "      <td>0.040</td>\n",
       "      <td>2</td>\n",
       "      <td>10</td>\n",
       "      <td>4</td>\n",
       "      <td>0.040</td>\n",
       "      <td>0</td>\n",
       "      <td>1</td>\n",
       "      <td>1</td>\n",
       "      <td>0</td>\n",
       "      <td>1</td>\n",
       "      <td>560</td>\n",
       "      <td>1</td>\n",
       "      <td>1</td>\n",
       "    </tr>\n",
       "  </tbody>\n",
       "</table>\n",
       "<p>689 rows × 15 columns</p>\n",
       "</div>"
      ],
      "text/plain": [
       "     A1     A2      A3  A4  A5  A6     A7  A8  A9  A10  A11  A12  A13    A14  \\\n",
       "0     0  22.67   7.000   2   8   4  0.165   0   0    0    0    2  160      1   \n",
       "1     0  29.58   1.750   1   4   4  1.250   0   0    0    1    2  280      1   \n",
       "2     0  21.67  11.500   1   5   3  0.000   1   1   11    1    2    0      1   \n",
       "3     1  20.17   8.170   2   6   4  1.960   1   1   14    0    2   60    159   \n",
       "4     0  15.83   0.585   2   8   8  1.500   1   1    2    0    2  100      1   \n",
       "5     1  17.42   6.500   2   3   4  0.125   0   0    0    0    2   60    101   \n",
       "6     0  58.67   4.460   2  11   8  3.040   1   1    6    0    2   43    561   \n",
       "7     1  27.83   1.000   1   2   8  3.000   0   0    0    0    2  176    538   \n",
       "8     0  55.75   7.080   2   4   8  6.750   1   1    3    1    2  100     51   \n",
       "9     1  33.50   1.750   2  14   8  4.500   1   1    4    1    2  253    858   \n",
       "10    1  41.42   5.000   2  11   8  5.000   1   1    6    1    2  470      1   \n",
       "11    1  20.67   1.250   1   8   8  1.375   1   1    3    1    2  140    211   \n",
       "12    1  34.92   5.000   2  14   8  7.500   1   1    6    1    2    0   1001   \n",
       "13    1  58.58   2.710   2   8   4  2.415   0   0    0    1    2  320      1   \n",
       "14    1  48.08   6.040   2   4   4  0.040   0   0    0    0    2    0   2691   \n",
       "15    1  29.58   4.500   2   9   4  7.500   1   1    2    1    2  330      1   \n",
       "16    0  18.92   9.000   2   6   4  0.750   1   1    2    0    2   88    592   \n",
       "17    1  20.00   1.250   1   4   4  0.125   0   0    0    0    2  140      5   \n",
       "18    0  22.42   5.665   2  11   4  2.585   1   1    7    0    2  129   3258   \n",
       "19    0  28.17   0.585   2   6   4  0.040   0   0    0    0    2  260   1005   \n",
       "20    0  19.17   0.585   1   6   4  0.585   1   0    0    1    2  160      1   \n",
       "21    1  41.17   1.335   2   2   4  0.165   0   0    0    0    2  168      1   \n",
       "22    1  41.58   1.750   2   4   4  0.210   1   0    0    0    2  160      1   \n",
       "23    1  19.50   9.585   2   6   4  0.790   0   0    0    0    2   80    351   \n",
       "24    1  32.75   1.500   2  13   8  5.500   1   1    3    1    2    0      1   \n",
       "25    1  22.50   0.125   1   4   4  0.125   0   0    0    0    2  200     71   \n",
       "26    1  33.17   3.040   1   8   8  2.040   1   1    1    1    2  180  18028   \n",
       "27    0  30.67  12.000   2   8   4  2.000   1   1    1    0    2  220     20   \n",
       "28    1  23.08   2.500   2   8   4  1.085   1   1   11    1    2   60   2185   \n",
       "29    1  27.00   0.750   2   8   8  4.250   1   1    3    1    2  312    151   \n",
       "..   ..    ...     ...  ..  ..  ..    ...  ..  ..  ...  ...  ...  ...    ...   \n",
       "659   1  26.67   2.710   1  13   4  5.250   1   1    1    0    2  211      1   \n",
       "660   0  22.50   0.415   2   3   4  0.335   0   0    0    1    1  144      1   \n",
       "661   1  39.92   0.540   1   6   4  0.500   1   1    3    0    2  200   1001   \n",
       "662   0  26.08   8.665   2   6   4  1.415   1   0    0    0    2  160    151   \n",
       "663   1  20.00   0.000   2   2   4  0.500   0   0    0    0    2  144      1   \n",
       "664   1  31.57   4.000   1   3   4  0.085   0   0    0    1    2  411      1   \n",
       "665   1  26.75   4.500   1   8   5  2.500   0   0    0    0    2  200   1211   \n",
       "666   0  24.92   1.250   2   1   1  0.000   1   0    0    0    2   80      1   \n",
       "667   0  32.25   1.500   2   8   4  0.250   0   0    0    1    2  372    123   \n",
       "668   1  17.67   4.460   2   8   4  0.250   0   0    0    0    1   80      1   \n",
       "669   0  37.75   5.500   2  11   4  0.125   1   0    0    1    2  228      1   \n",
       "670   1  22.67   2.540   1   8   8  2.585   1   0    0    0    2    0      1   \n",
       "671   0  17.92  10.210   2   1   1  0.000   0   0    0    0    2    0     51   \n",
       "672   1  24.42  12.335   2  11   8  1.585   1   0    0    1    2  120      1   \n",
       "673   0  25.75   0.500   2   8   8  0.875   1   0    0    1    2  491      1   \n",
       "674   1  26.17  12.500   1   4   8  1.250   0   0    0    1    2    0     18   \n",
       "675   0  22.75   6.165   2   6   4  0.165   0   0    0    0    2  220   1001   \n",
       "676   1  23.00   0.750   2   7   4  0.500   1   0    0    1    1  320      1   \n",
       "677   1  25.67   0.290   1   8   4  1.500   0   0    0    1    2  160      1   \n",
       "678   1  48.58   0.205   1   4   4  0.250   1   1   11    0    2  380   2733   \n",
       "679   1  21.17   0.000   2   8   4  0.500   0   0    0    1    1    0      1   \n",
       "680   1  35.25  16.500   1   8   4  4.000   1   0    0    0    2   80      1   \n",
       "681   0  22.92  11.585   2  13   4  0.040   1   0    0    0    2   80   1350   \n",
       "682   0  48.17   1.335   2   3   7  0.335   0   0    0    0    2    0    121   \n",
       "683   1  43.00   0.290   1  13   8  1.750   1   1    8    0    2  100    376   \n",
       "684   1  31.57  10.500   2  14   4  6.500   1   0    0    0    2    0      1   \n",
       "685   1  20.67   0.415   2   8   4  0.125   0   0    0    0    2    0     45   \n",
       "686   0  18.83   9.540   2   6   4  0.085   1   0    0    0    2  100      1   \n",
       "687   0  27.42  14.500   2  14   8  3.085   1   1    1    0    2  120     12   \n",
       "688   1  41.00   0.040   2  10   4  0.040   0   1    1    0    1  560      1   \n",
       "\n",
       "     class  \n",
       "0        0  \n",
       "1        0  \n",
       "2        1  \n",
       "3        1  \n",
       "4        1  \n",
       "5        0  \n",
       "6        1  \n",
       "7        0  \n",
       "8        0  \n",
       "9        1  \n",
       "10       1  \n",
       "11       0  \n",
       "12       1  \n",
       "13       0  \n",
       "14       1  \n",
       "15       1  \n",
       "16       1  \n",
       "17       0  \n",
       "18       1  \n",
       "19       0  \n",
       "20       0  \n",
       "21       0  \n",
       "22       0  \n",
       "23       0  \n",
       "24       1  \n",
       "25       0  \n",
       "26       1  \n",
       "27       1  \n",
       "28       1  \n",
       "29       1  \n",
       "..     ...  \n",
       "659      1  \n",
       "660      0  \n",
       "661      1  \n",
       "662      1  \n",
       "663      0  \n",
       "664      0  \n",
       "665      0  \n",
       "666      0  \n",
       "667      0  \n",
       "668      0  \n",
       "669      1  \n",
       "670      1  \n",
       "671      0  \n",
       "672      1  \n",
       "673      1  \n",
       "674      0  \n",
       "675      0  \n",
       "676      0  \n",
       "677      0  \n",
       "678      1  \n",
       "679      0  \n",
       "680      0  \n",
       "681      1  \n",
       "682      0  \n",
       "683      1  \n",
       "684      1  \n",
       "685      0  \n",
       "686      1  \n",
       "687      1  \n",
       "688      1  \n",
       "\n",
       "[689 rows x 15 columns]"
      ]
     },
     "execution_count": 5,
     "metadata": {},
     "output_type": "execute_result"
    }
   ],
   "source": [
    "data"
   ]
  },
  {
   "cell_type": "markdown",
   "metadata": {},
   "source": [
    "*Выведем данные стандартными средствами python:*"
   ]
  },
  {
   "cell_type": "code",
   "execution_count": 6,
   "metadata": {},
   "outputs": [
    {
     "name": "stdout",
     "output_type": "stream",
     "text": [
      "     A1     A2      A3  A4  A5  A6     A7  A8  A9  A10  A11  A12  A13    A14  \\\n",
      "0     0  22.67   7.000   2   8   4  0.165   0   0    0    0    2  160      1   \n",
      "1     0  29.58   1.750   1   4   4  1.250   0   0    0    1    2  280      1   \n",
      "2     0  21.67  11.500   1   5   3  0.000   1   1   11    1    2    0      1   \n",
      "3     1  20.17   8.170   2   6   4  1.960   1   1   14    0    2   60    159   \n",
      "4     0  15.83   0.585   2   8   8  1.500   1   1    2    0    2  100      1   \n",
      "5     1  17.42   6.500   2   3   4  0.125   0   0    0    0    2   60    101   \n",
      "6     0  58.67   4.460   2  11   8  3.040   1   1    6    0    2   43    561   \n",
      "7     1  27.83   1.000   1   2   8  3.000   0   0    0    0    2  176    538   \n",
      "8     0  55.75   7.080   2   4   8  6.750   1   1    3    1    2  100     51   \n",
      "9     1  33.50   1.750   2  14   8  4.500   1   1    4    1    2  253    858   \n",
      "10    1  41.42   5.000   2  11   8  5.000   1   1    6    1    2  470      1   \n",
      "11    1  20.67   1.250   1   8   8  1.375   1   1    3    1    2  140    211   \n",
      "12    1  34.92   5.000   2  14   8  7.500   1   1    6    1    2    0   1001   \n",
      "13    1  58.58   2.710   2   8   4  2.415   0   0    0    1    2  320      1   \n",
      "14    1  48.08   6.040   2   4   4  0.040   0   0    0    0    2    0   2691   \n",
      "15    1  29.58   4.500   2   9   4  7.500   1   1    2    1    2  330      1   \n",
      "16    0  18.92   9.000   2   6   4  0.750   1   1    2    0    2   88    592   \n",
      "17    1  20.00   1.250   1   4   4  0.125   0   0    0    0    2  140      5   \n",
      "18    0  22.42   5.665   2  11   4  2.585   1   1    7    0    2  129   3258   \n",
      "19    0  28.17   0.585   2   6   4  0.040   0   0    0    0    2  260   1005   \n",
      "20    0  19.17   0.585   1   6   4  0.585   1   0    0    1    2  160      1   \n",
      "21    1  41.17   1.335   2   2   4  0.165   0   0    0    0    2  168      1   \n",
      "22    1  41.58   1.750   2   4   4  0.210   1   0    0    0    2  160      1   \n",
      "23    1  19.50   9.585   2   6   4  0.790   0   0    0    0    2   80    351   \n",
      "24    1  32.75   1.500   2  13   8  5.500   1   1    3    1    2    0      1   \n",
      "25    1  22.50   0.125   1   4   4  0.125   0   0    0    0    2  200     71   \n",
      "26    1  33.17   3.040   1   8   8  2.040   1   1    1    1    2  180  18028   \n",
      "27    0  30.67  12.000   2   8   4  2.000   1   1    1    0    2  220     20   \n",
      "28    1  23.08   2.500   2   8   4  1.085   1   1   11    1    2   60   2185   \n",
      "29    1  27.00   0.750   2   8   8  4.250   1   1    3    1    2  312    151   \n",
      "..   ..    ...     ...  ..  ..  ..    ...  ..  ..  ...  ...  ...  ...    ...   \n",
      "659   1  26.67   2.710   1  13   4  5.250   1   1    1    0    2  211      1   \n",
      "660   0  22.50   0.415   2   3   4  0.335   0   0    0    1    1  144      1   \n",
      "661   1  39.92   0.540   1   6   4  0.500   1   1    3    0    2  200   1001   \n",
      "662   0  26.08   8.665   2   6   4  1.415   1   0    0    0    2  160    151   \n",
      "663   1  20.00   0.000   2   2   4  0.500   0   0    0    0    2  144      1   \n",
      "664   1  31.57   4.000   1   3   4  0.085   0   0    0    1    2  411      1   \n",
      "665   1  26.75   4.500   1   8   5  2.500   0   0    0    0    2  200   1211   \n",
      "666   0  24.92   1.250   2   1   1  0.000   1   0    0    0    2   80      1   \n",
      "667   0  32.25   1.500   2   8   4  0.250   0   0    0    1    2  372    123   \n",
      "668   1  17.67   4.460   2   8   4  0.250   0   0    0    0    1   80      1   \n",
      "669   0  37.75   5.500   2  11   4  0.125   1   0    0    1    2  228      1   \n",
      "670   1  22.67   2.540   1   8   8  2.585   1   0    0    0    2    0      1   \n",
      "671   0  17.92  10.210   2   1   1  0.000   0   0    0    0    2    0     51   \n",
      "672   1  24.42  12.335   2  11   8  1.585   1   0    0    1    2  120      1   \n",
      "673   0  25.75   0.500   2   8   8  0.875   1   0    0    1    2  491      1   \n",
      "674   1  26.17  12.500   1   4   8  1.250   0   0    0    1    2    0     18   \n",
      "675   0  22.75   6.165   2   6   4  0.165   0   0    0    0    2  220   1001   \n",
      "676   1  23.00   0.750   2   7   4  0.500   1   0    0    1    1  320      1   \n",
      "677   1  25.67   0.290   1   8   4  1.500   0   0    0    1    2  160      1   \n",
      "678   1  48.58   0.205   1   4   4  0.250   1   1   11    0    2  380   2733   \n",
      "679   1  21.17   0.000   2   8   4  0.500   0   0    0    1    1    0      1   \n",
      "680   1  35.25  16.500   1   8   4  4.000   1   0    0    0    2   80      1   \n",
      "681   0  22.92  11.585   2  13   4  0.040   1   0    0    0    2   80   1350   \n",
      "682   0  48.17   1.335   2   3   7  0.335   0   0    0    0    2    0    121   \n",
      "683   1  43.00   0.290   1  13   8  1.750   1   1    8    0    2  100    376   \n",
      "684   1  31.57  10.500   2  14   4  6.500   1   0    0    0    2    0      1   \n",
      "685   1  20.67   0.415   2   8   4  0.125   0   0    0    0    2    0     45   \n",
      "686   0  18.83   9.540   2   6   4  0.085   1   0    0    0    2  100      1   \n",
      "687   0  27.42  14.500   2  14   8  3.085   1   1    1    0    2  120     12   \n",
      "688   1  41.00   0.040   2  10   4  0.040   0   1    1    0    1  560      1   \n",
      "\n",
      "     class  \n",
      "0        0  \n",
      "1        0  \n",
      "2        1  \n",
      "3        1  \n",
      "4        1  \n",
      "5        0  \n",
      "6        1  \n",
      "7        0  \n",
      "8        0  \n",
      "9        1  \n",
      "10       1  \n",
      "11       0  \n",
      "12       1  \n",
      "13       0  \n",
      "14       1  \n",
      "15       1  \n",
      "16       1  \n",
      "17       0  \n",
      "18       1  \n",
      "19       0  \n",
      "20       0  \n",
      "21       0  \n",
      "22       0  \n",
      "23       0  \n",
      "24       1  \n",
      "25       0  \n",
      "26       1  \n",
      "27       1  \n",
      "28       1  \n",
      "29       1  \n",
      "..     ...  \n",
      "659      1  \n",
      "660      0  \n",
      "661      1  \n",
      "662      1  \n",
      "663      0  \n",
      "664      0  \n",
      "665      0  \n",
      "666      0  \n",
      "667      0  \n",
      "668      0  \n",
      "669      1  \n",
      "670      1  \n",
      "671      0  \n",
      "672      1  \n",
      "673      1  \n",
      "674      0  \n",
      "675      0  \n",
      "676      0  \n",
      "677      0  \n",
      "678      1  \n",
      "679      0  \n",
      "680      0  \n",
      "681      1  \n",
      "682      0  \n",
      "683      1  \n",
      "684      1  \n",
      "685      0  \n",
      "686      1  \n",
      "687      1  \n",
      "688      1  \n",
      "\n",
      "[689 rows x 15 columns]\n"
     ]
    }
   ],
   "source": [
    "print(data)"
   ]
  },
  {
   "cell_type": "markdown",
   "metadata": {},
   "source": [
    "*Выведем первые 5 строк базы данных(БД):*"
   ]
  },
  {
   "cell_type": "code",
   "execution_count": 7,
   "metadata": {},
   "outputs": [
    {
     "data": {
      "text/html": [
       "<div>\n",
       "<style>\n",
       "    .dataframe thead tr:only-child th {\n",
       "        text-align: right;\n",
       "    }\n",
       "\n",
       "    .dataframe thead th {\n",
       "        text-align: left;\n",
       "    }\n",
       "\n",
       "    .dataframe tbody tr th {\n",
       "        vertical-align: top;\n",
       "    }\n",
       "</style>\n",
       "<table border=\"1\" class=\"dataframe\">\n",
       "  <thead>\n",
       "    <tr style=\"text-align: right;\">\n",
       "      <th></th>\n",
       "      <th>A1</th>\n",
       "      <th>A2</th>\n",
       "      <th>A3</th>\n",
       "      <th>A4</th>\n",
       "      <th>A5</th>\n",
       "      <th>A6</th>\n",
       "      <th>A7</th>\n",
       "      <th>A8</th>\n",
       "      <th>A9</th>\n",
       "      <th>A10</th>\n",
       "      <th>A11</th>\n",
       "      <th>A12</th>\n",
       "      <th>A13</th>\n",
       "      <th>A14</th>\n",
       "      <th>class</th>\n",
       "    </tr>\n",
       "  </thead>\n",
       "  <tbody>\n",
       "    <tr>\n",
       "      <th>0</th>\n",
       "      <td>0</td>\n",
       "      <td>22.67</td>\n",
       "      <td>7.000</td>\n",
       "      <td>2</td>\n",
       "      <td>8</td>\n",
       "      <td>4</td>\n",
       "      <td>0.165</td>\n",
       "      <td>0</td>\n",
       "      <td>0</td>\n",
       "      <td>0</td>\n",
       "      <td>0</td>\n",
       "      <td>2</td>\n",
       "      <td>160</td>\n",
       "      <td>1</td>\n",
       "      <td>0</td>\n",
       "    </tr>\n",
       "    <tr>\n",
       "      <th>1</th>\n",
       "      <td>0</td>\n",
       "      <td>29.58</td>\n",
       "      <td>1.750</td>\n",
       "      <td>1</td>\n",
       "      <td>4</td>\n",
       "      <td>4</td>\n",
       "      <td>1.250</td>\n",
       "      <td>0</td>\n",
       "      <td>0</td>\n",
       "      <td>0</td>\n",
       "      <td>1</td>\n",
       "      <td>2</td>\n",
       "      <td>280</td>\n",
       "      <td>1</td>\n",
       "      <td>0</td>\n",
       "    </tr>\n",
       "    <tr>\n",
       "      <th>2</th>\n",
       "      <td>0</td>\n",
       "      <td>21.67</td>\n",
       "      <td>11.500</td>\n",
       "      <td>1</td>\n",
       "      <td>5</td>\n",
       "      <td>3</td>\n",
       "      <td>0.000</td>\n",
       "      <td>1</td>\n",
       "      <td>1</td>\n",
       "      <td>11</td>\n",
       "      <td>1</td>\n",
       "      <td>2</td>\n",
       "      <td>0</td>\n",
       "      <td>1</td>\n",
       "      <td>1</td>\n",
       "    </tr>\n",
       "    <tr>\n",
       "      <th>3</th>\n",
       "      <td>1</td>\n",
       "      <td>20.17</td>\n",
       "      <td>8.170</td>\n",
       "      <td>2</td>\n",
       "      <td>6</td>\n",
       "      <td>4</td>\n",
       "      <td>1.960</td>\n",
       "      <td>1</td>\n",
       "      <td>1</td>\n",
       "      <td>14</td>\n",
       "      <td>0</td>\n",
       "      <td>2</td>\n",
       "      <td>60</td>\n",
       "      <td>159</td>\n",
       "      <td>1</td>\n",
       "    </tr>\n",
       "    <tr>\n",
       "      <th>4</th>\n",
       "      <td>0</td>\n",
       "      <td>15.83</td>\n",
       "      <td>0.585</td>\n",
       "      <td>2</td>\n",
       "      <td>8</td>\n",
       "      <td>8</td>\n",
       "      <td>1.500</td>\n",
       "      <td>1</td>\n",
       "      <td>1</td>\n",
       "      <td>2</td>\n",
       "      <td>0</td>\n",
       "      <td>2</td>\n",
       "      <td>100</td>\n",
       "      <td>1</td>\n",
       "      <td>1</td>\n",
       "    </tr>\n",
       "  </tbody>\n",
       "</table>\n",
       "</div>"
      ],
      "text/plain": [
       "   A1     A2      A3  A4  A5  A6     A7  A8  A9  A10  A11  A12  A13  A14  \\\n",
       "0   0  22.67   7.000   2   8   4  0.165   0   0    0    0    2  160    1   \n",
       "1   0  29.58   1.750   1   4   4  1.250   0   0    0    1    2  280    1   \n",
       "2   0  21.67  11.500   1   5   3  0.000   1   1   11    1    2    0    1   \n",
       "3   1  20.17   8.170   2   6   4  1.960   1   1   14    0    2   60  159   \n",
       "4   0  15.83   0.585   2   8   8  1.500   1   1    2    0    2  100    1   \n",
       "\n",
       "   class  \n",
       "0      0  \n",
       "1      0  \n",
       "2      1  \n",
       "3      1  \n",
       "4      1  "
      ]
     },
     "execution_count": 7,
     "metadata": {},
     "output_type": "execute_result"
    }
   ],
   "source": [
    "data.head(5)"
   ]
  },
  {
   "cell_type": "markdown",
   "metadata": {},
   "source": [
    "*Выведем последние 5 строк БД:*"
   ]
  },
  {
   "cell_type": "code",
   "execution_count": 8,
   "metadata": {},
   "outputs": [
    {
     "data": {
      "text/html": [
       "<div>\n",
       "<style>\n",
       "    .dataframe thead tr:only-child th {\n",
       "        text-align: right;\n",
       "    }\n",
       "\n",
       "    .dataframe thead th {\n",
       "        text-align: left;\n",
       "    }\n",
       "\n",
       "    .dataframe tbody tr th {\n",
       "        vertical-align: top;\n",
       "    }\n",
       "</style>\n",
       "<table border=\"1\" class=\"dataframe\">\n",
       "  <thead>\n",
       "    <tr style=\"text-align: right;\">\n",
       "      <th></th>\n",
       "      <th>A1</th>\n",
       "      <th>A2</th>\n",
       "      <th>A3</th>\n",
       "      <th>A4</th>\n",
       "      <th>A5</th>\n",
       "      <th>A6</th>\n",
       "      <th>A7</th>\n",
       "      <th>A8</th>\n",
       "      <th>A9</th>\n",
       "      <th>A10</th>\n",
       "      <th>A11</th>\n",
       "      <th>A12</th>\n",
       "      <th>A13</th>\n",
       "      <th>A14</th>\n",
       "      <th>class</th>\n",
       "    </tr>\n",
       "  </thead>\n",
       "  <tbody>\n",
       "    <tr>\n",
       "      <th>684</th>\n",
       "      <td>1</td>\n",
       "      <td>31.57</td>\n",
       "      <td>10.500</td>\n",
       "      <td>2</td>\n",
       "      <td>14</td>\n",
       "      <td>4</td>\n",
       "      <td>6.500</td>\n",
       "      <td>1</td>\n",
       "      <td>0</td>\n",
       "      <td>0</td>\n",
       "      <td>0</td>\n",
       "      <td>2</td>\n",
       "      <td>0</td>\n",
       "      <td>1</td>\n",
       "      <td>1</td>\n",
       "    </tr>\n",
       "    <tr>\n",
       "      <th>685</th>\n",
       "      <td>1</td>\n",
       "      <td>20.67</td>\n",
       "      <td>0.415</td>\n",
       "      <td>2</td>\n",
       "      <td>8</td>\n",
       "      <td>4</td>\n",
       "      <td>0.125</td>\n",
       "      <td>0</td>\n",
       "      <td>0</td>\n",
       "      <td>0</td>\n",
       "      <td>0</td>\n",
       "      <td>2</td>\n",
       "      <td>0</td>\n",
       "      <td>45</td>\n",
       "      <td>0</td>\n",
       "    </tr>\n",
       "    <tr>\n",
       "      <th>686</th>\n",
       "      <td>0</td>\n",
       "      <td>18.83</td>\n",
       "      <td>9.540</td>\n",
       "      <td>2</td>\n",
       "      <td>6</td>\n",
       "      <td>4</td>\n",
       "      <td>0.085</td>\n",
       "      <td>1</td>\n",
       "      <td>0</td>\n",
       "      <td>0</td>\n",
       "      <td>0</td>\n",
       "      <td>2</td>\n",
       "      <td>100</td>\n",
       "      <td>1</td>\n",
       "      <td>1</td>\n",
       "    </tr>\n",
       "    <tr>\n",
       "      <th>687</th>\n",
       "      <td>0</td>\n",
       "      <td>27.42</td>\n",
       "      <td>14.500</td>\n",
       "      <td>2</td>\n",
       "      <td>14</td>\n",
       "      <td>8</td>\n",
       "      <td>3.085</td>\n",
       "      <td>1</td>\n",
       "      <td>1</td>\n",
       "      <td>1</td>\n",
       "      <td>0</td>\n",
       "      <td>2</td>\n",
       "      <td>120</td>\n",
       "      <td>12</td>\n",
       "      <td>1</td>\n",
       "    </tr>\n",
       "    <tr>\n",
       "      <th>688</th>\n",
       "      <td>1</td>\n",
       "      <td>41.00</td>\n",
       "      <td>0.040</td>\n",
       "      <td>2</td>\n",
       "      <td>10</td>\n",
       "      <td>4</td>\n",
       "      <td>0.040</td>\n",
       "      <td>0</td>\n",
       "      <td>1</td>\n",
       "      <td>1</td>\n",
       "      <td>0</td>\n",
       "      <td>1</td>\n",
       "      <td>560</td>\n",
       "      <td>1</td>\n",
       "      <td>1</td>\n",
       "    </tr>\n",
       "  </tbody>\n",
       "</table>\n",
       "</div>"
      ],
      "text/plain": [
       "     A1     A2      A3  A4  A5  A6     A7  A8  A9  A10  A11  A12  A13  A14  \\\n",
       "684   1  31.57  10.500   2  14   4  6.500   1   0    0    0    2    0    1   \n",
       "685   1  20.67   0.415   2   8   4  0.125   0   0    0    0    2    0   45   \n",
       "686   0  18.83   9.540   2   6   4  0.085   1   0    0    0    2  100    1   \n",
       "687   0  27.42  14.500   2  14   8  3.085   1   1    1    0    2  120   12   \n",
       "688   1  41.00   0.040   2  10   4  0.040   0   1    1    0    1  560    1   \n",
       "\n",
       "     class  \n",
       "684      1  \n",
       "685      0  \n",
       "686      1  \n",
       "687      1  \n",
       "688      1  "
      ]
     },
     "execution_count": 8,
     "metadata": {},
     "output_type": "execute_result"
    }
   ],
   "source": [
    "data.tail(5)"
   ]
  },
  {
   "cell_type": "code",
   "execution_count": 9,
   "metadata": {},
   "outputs": [
    {
     "name": "stdout",
     "output_type": "stream",
     "text": [
      "(689, 15)\n",
      "Index(['A1', 'A2', 'A3', 'A4', 'A5', 'A6', 'A7', 'A8', 'A9', 'A10', 'A11',\n",
      "       'A12', 'A13', 'A14', 'class'],\n",
      "      dtype='object')\n"
     ]
    }
   ],
   "source": [
    "print(data.shape)\n",
    "print(data.columns)"
   ]
  },
  {
   "cell_type": "code",
   "execution_count": 10,
   "metadata": {},
   "outputs": [
    {
     "data": {
      "text/plain": [
       "RangeIndex(start=0, stop=689, step=1)"
      ]
     },
     "execution_count": 10,
     "metadata": {},
     "output_type": "execute_result"
    }
   ],
   "source": [
    "data.index"
   ]
  },
  {
   "cell_type": "code",
   "execution_count": 11,
   "metadata": {},
   "outputs": [
    {
     "data": {
      "text/plain": [
       "2"
      ]
     },
     "execution_count": 11,
     "metadata": {},
     "output_type": "execute_result"
    }
   ],
   "source": [
    "data.at[3, 'A4']"
   ]
  },
  {
   "cell_type": "code",
   "execution_count": 12,
   "metadata": {},
   "outputs": [
    {
     "data": {
      "text/plain": [
       "0       7.000\n",
       "1       1.750\n",
       "2      11.500\n",
       "3       8.170\n",
       "4       0.585\n",
       "5       6.500\n",
       "6       4.460\n",
       "7       1.000\n",
       "8       7.080\n",
       "9       1.750\n",
       "10      5.000\n",
       "11      1.250\n",
       "12      5.000\n",
       "13      2.710\n",
       "14      6.040\n",
       "15      4.500\n",
       "16      9.000\n",
       "17      1.250\n",
       "18      5.665\n",
       "19      0.585\n",
       "20      0.585\n",
       "21      1.335\n",
       "22      1.750\n",
       "23      9.585\n",
       "24      1.500\n",
       "25      0.125\n",
       "26      3.040\n",
       "27     12.000\n",
       "28      2.500\n",
       "29      0.750\n",
       "        ...  \n",
       "659     2.710\n",
       "660     0.415\n",
       "661     0.540\n",
       "662     8.665\n",
       "663     0.000\n",
       "664     4.000\n",
       "665     4.500\n",
       "666     1.250\n",
       "667     1.500\n",
       "668     4.460\n",
       "669     5.500\n",
       "670     2.540\n",
       "671    10.210\n",
       "672    12.335\n",
       "673     0.500\n",
       "674    12.500\n",
       "675     6.165\n",
       "676     0.750\n",
       "677     0.290\n",
       "678     0.205\n",
       "679     0.000\n",
       "680    16.500\n",
       "681    11.585\n",
       "682     1.335\n",
       "683     0.290\n",
       "684    10.500\n",
       "685     0.415\n",
       "686     9.540\n",
       "687    14.500\n",
       "688     0.040\n",
       "Name: A3, Length: 689, dtype: float64"
      ]
     },
     "execution_count": 12,
     "metadata": {},
     "output_type": "execute_result"
    }
   ],
   "source": [
    "data['A3']"
   ]
  },
  {
   "cell_type": "code",
   "execution_count": 13,
   "metadata": {},
   "outputs": [
    {
     "data": {
      "text/plain": [
       "20.170000000000002"
      ]
     },
     "execution_count": 13,
     "metadata": {},
     "output_type": "execute_result"
    }
   ],
   "source": [
    "data['A2'][3]"
   ]
  },
  {
   "cell_type": "code",
   "execution_count": 14,
   "metadata": {},
   "outputs": [
    {
     "data": {
      "text/plain": [
       "'float64'"
      ]
     },
     "execution_count": 14,
     "metadata": {},
     "output_type": "execute_result"
    }
   ],
   "source": [
    "data['A2'].dtype.name"
   ]
  },
  {
   "cell_type": "code",
   "execution_count": 15,
   "metadata": {},
   "outputs": [
    {
     "data": {
      "text/plain": [
       "pandas.core.series.Series"
      ]
     },
     "execution_count": 15,
     "metadata": {},
     "output_type": "execute_result"
    }
   ],
   "source": [
    "type(data['A2'])"
   ]
  },
  {
   "cell_type": "code",
   "execution_count": 16,
   "metadata": {},
   "outputs": [
    {
     "data": {
      "text/html": [
       "<div>\n",
       "<style>\n",
       "    .dataframe thead tr:only-child th {\n",
       "        text-align: right;\n",
       "    }\n",
       "\n",
       "    .dataframe thead th {\n",
       "        text-align: left;\n",
       "    }\n",
       "\n",
       "    .dataframe tbody tr th {\n",
       "        vertical-align: top;\n",
       "    }\n",
       "</style>\n",
       "<table border=\"1\" class=\"dataframe\">\n",
       "  <thead>\n",
       "    <tr style=\"text-align: right;\">\n",
       "      <th></th>\n",
       "      <th>A1</th>\n",
       "      <th>A3</th>\n",
       "    </tr>\n",
       "  </thead>\n",
       "  <tbody>\n",
       "    <tr>\n",
       "      <th>0</th>\n",
       "      <td>0</td>\n",
       "      <td>7.000</td>\n",
       "    </tr>\n",
       "    <tr>\n",
       "      <th>1</th>\n",
       "      <td>0</td>\n",
       "      <td>1.750</td>\n",
       "    </tr>\n",
       "    <tr>\n",
       "      <th>2</th>\n",
       "      <td>0</td>\n",
       "      <td>11.500</td>\n",
       "    </tr>\n",
       "    <tr>\n",
       "      <th>3</th>\n",
       "      <td>1</td>\n",
       "      <td>8.170</td>\n",
       "    </tr>\n",
       "    <tr>\n",
       "      <th>4</th>\n",
       "      <td>0</td>\n",
       "      <td>0.585</td>\n",
       "    </tr>\n",
       "  </tbody>\n",
       "</table>\n",
       "</div>"
      ],
      "text/plain": [
       "   A1      A3\n",
       "0   0   7.000\n",
       "1   0   1.750\n",
       "2   0  11.500\n",
       "3   1   8.170\n",
       "4   0   0.585"
      ]
     },
     "execution_count": 16,
     "metadata": {},
     "output_type": "execute_result"
    }
   ],
   "source": [
    "data[['A1', 'A3']].head()"
   ]
  },
  {
   "cell_type": "code",
   "execution_count": 17,
   "metadata": {},
   "outputs": [
    {
     "data": {
      "text/html": [
       "<div>\n",
       "<style>\n",
       "    .dataframe thead tr:only-child th {\n",
       "        text-align: right;\n",
       "    }\n",
       "\n",
       "    .dataframe thead th {\n",
       "        text-align: left;\n",
       "    }\n",
       "\n",
       "    .dataframe tbody tr th {\n",
       "        vertical-align: top;\n",
       "    }\n",
       "</style>\n",
       "<table border=\"1\" class=\"dataframe\">\n",
       "  <thead>\n",
       "    <tr style=\"text-align: right;\">\n",
       "      <th></th>\n",
       "      <th>A1</th>\n",
       "      <th>A2</th>\n",
       "      <th>A3</th>\n",
       "      <th>A4</th>\n",
       "      <th>A5</th>\n",
       "      <th>A6</th>\n",
       "      <th>A7</th>\n",
       "      <th>A8</th>\n",
       "      <th>A9</th>\n",
       "      <th>A10</th>\n",
       "      <th>A11</th>\n",
       "      <th>A12</th>\n",
       "      <th>A13</th>\n",
       "      <th>A14</th>\n",
       "      <th>class</th>\n",
       "    </tr>\n",
       "  </thead>\n",
       "  <tbody>\n",
       "    <tr>\n",
       "      <th>count</th>\n",
       "      <td>689.000000</td>\n",
       "      <td>689.000000</td>\n",
       "      <td>689.000000</td>\n",
       "      <td>689.000000</td>\n",
       "      <td>689.000000</td>\n",
       "      <td>689.000000</td>\n",
       "      <td>689.000000</td>\n",
       "      <td>689.000000</td>\n",
       "      <td>689.000000</td>\n",
       "      <td>689.000000</td>\n",
       "      <td>689.000000</td>\n",
       "      <td>689.000000</td>\n",
       "      <td>689.000000</td>\n",
       "      <td>689.000000</td>\n",
       "      <td>689.000000</td>\n",
       "    </tr>\n",
       "    <tr>\n",
       "      <th>mean</th>\n",
       "      <td>0.677794</td>\n",
       "      <td>31.581974</td>\n",
       "      <td>4.748999</td>\n",
       "      <td>1.766328</td>\n",
       "      <td>7.377358</td>\n",
       "      <td>4.693759</td>\n",
       "      <td>2.224332</td>\n",
       "      <td>0.523948</td>\n",
       "      <td>0.428157</td>\n",
       "      <td>2.403483</td>\n",
       "      <td>0.457184</td>\n",
       "      <td>1.928882</td>\n",
       "      <td>184.136430</td>\n",
       "      <td>1018.103048</td>\n",
       "      <td>0.445573</td>\n",
       "    </tr>\n",
       "    <tr>\n",
       "      <th>std</th>\n",
       "      <td>0.467661</td>\n",
       "      <td>11.856359</td>\n",
       "      <td>4.975215</td>\n",
       "      <td>0.430283</td>\n",
       "      <td>3.683694</td>\n",
       "      <td>1.993588</td>\n",
       "      <td>3.348856</td>\n",
       "      <td>0.499789</td>\n",
       "      <td>0.495171</td>\n",
       "      <td>4.865611</td>\n",
       "      <td>0.498525</td>\n",
       "      <td>0.299018</td>\n",
       "      <td>172.254524</td>\n",
       "      <td>5213.882348</td>\n",
       "      <td>0.497390</td>\n",
       "    </tr>\n",
       "    <tr>\n",
       "      <th>min</th>\n",
       "      <td>0.000000</td>\n",
       "      <td>13.750000</td>\n",
       "      <td>0.000000</td>\n",
       "      <td>1.000000</td>\n",
       "      <td>1.000000</td>\n",
       "      <td>1.000000</td>\n",
       "      <td>0.000000</td>\n",
       "      <td>0.000000</td>\n",
       "      <td>0.000000</td>\n",
       "      <td>0.000000</td>\n",
       "      <td>0.000000</td>\n",
       "      <td>1.000000</td>\n",
       "      <td>0.000000</td>\n",
       "      <td>1.000000</td>\n",
       "      <td>0.000000</td>\n",
       "    </tr>\n",
       "    <tr>\n",
       "      <th>25%</th>\n",
       "      <td>0.000000</td>\n",
       "      <td>22.670000</td>\n",
       "      <td>1.000000</td>\n",
       "      <td>2.000000</td>\n",
       "      <td>4.000000</td>\n",
       "      <td>4.000000</td>\n",
       "      <td>0.165000</td>\n",
       "      <td>0.000000</td>\n",
       "      <td>0.000000</td>\n",
       "      <td>0.000000</td>\n",
       "      <td>0.000000</td>\n",
       "      <td>2.000000</td>\n",
       "      <td>80.000000</td>\n",
       "      <td>1.000000</td>\n",
       "      <td>0.000000</td>\n",
       "    </tr>\n",
       "    <tr>\n",
       "      <th>50%</th>\n",
       "      <td>1.000000</td>\n",
       "      <td>28.670000</td>\n",
       "      <td>2.750000</td>\n",
       "      <td>2.000000</td>\n",
       "      <td>8.000000</td>\n",
       "      <td>4.000000</td>\n",
       "      <td>1.000000</td>\n",
       "      <td>1.000000</td>\n",
       "      <td>0.000000</td>\n",
       "      <td>0.000000</td>\n",
       "      <td>0.000000</td>\n",
       "      <td>2.000000</td>\n",
       "      <td>160.000000</td>\n",
       "      <td>6.000000</td>\n",
       "      <td>0.000000</td>\n",
       "    </tr>\n",
       "    <tr>\n",
       "      <th>75%</th>\n",
       "      <td>1.000000</td>\n",
       "      <td>37.750000</td>\n",
       "      <td>7.080000</td>\n",
       "      <td>2.000000</td>\n",
       "      <td>10.000000</td>\n",
       "      <td>5.000000</td>\n",
       "      <td>2.625000</td>\n",
       "      <td>1.000000</td>\n",
       "      <td>1.000000</td>\n",
       "      <td>3.000000</td>\n",
       "      <td>1.000000</td>\n",
       "      <td>2.000000</td>\n",
       "      <td>272.000000</td>\n",
       "      <td>395.000000</td>\n",
       "      <td>1.000000</td>\n",
       "    </tr>\n",
       "    <tr>\n",
       "      <th>max</th>\n",
       "      <td>1.000000</td>\n",
       "      <td>80.250000</td>\n",
       "      <td>28.000000</td>\n",
       "      <td>3.000000</td>\n",
       "      <td>14.000000</td>\n",
       "      <td>9.000000</td>\n",
       "      <td>28.500000</td>\n",
       "      <td>1.000000</td>\n",
       "      <td>1.000000</td>\n",
       "      <td>67.000000</td>\n",
       "      <td>1.000000</td>\n",
       "      <td>3.000000</td>\n",
       "      <td>2000.000000</td>\n",
       "      <td>100001.000000</td>\n",
       "      <td>1.000000</td>\n",
       "    </tr>\n",
       "  </tbody>\n",
       "</table>\n",
       "</div>"
      ],
      "text/plain": [
       "               A1          A2          A3          A4          A5          A6  \\\n",
       "count  689.000000  689.000000  689.000000  689.000000  689.000000  689.000000   \n",
       "mean     0.677794   31.581974    4.748999    1.766328    7.377358    4.693759   \n",
       "std      0.467661   11.856359    4.975215    0.430283    3.683694    1.993588   \n",
       "min      0.000000   13.750000    0.000000    1.000000    1.000000    1.000000   \n",
       "25%      0.000000   22.670000    1.000000    2.000000    4.000000    4.000000   \n",
       "50%      1.000000   28.670000    2.750000    2.000000    8.000000    4.000000   \n",
       "75%      1.000000   37.750000    7.080000    2.000000   10.000000    5.000000   \n",
       "max      1.000000   80.250000   28.000000    3.000000   14.000000    9.000000   \n",
       "\n",
       "               A7          A8          A9         A10         A11         A12  \\\n",
       "count  689.000000  689.000000  689.000000  689.000000  689.000000  689.000000   \n",
       "mean     2.224332    0.523948    0.428157    2.403483    0.457184    1.928882   \n",
       "std      3.348856    0.499789    0.495171    4.865611    0.498525    0.299018   \n",
       "min      0.000000    0.000000    0.000000    0.000000    0.000000    1.000000   \n",
       "25%      0.165000    0.000000    0.000000    0.000000    0.000000    2.000000   \n",
       "50%      1.000000    1.000000    0.000000    0.000000    0.000000    2.000000   \n",
       "75%      2.625000    1.000000    1.000000    3.000000    1.000000    2.000000   \n",
       "max     28.500000    1.000000    1.000000   67.000000    1.000000    3.000000   \n",
       "\n",
       "               A13            A14       class  \n",
       "count   689.000000     689.000000  689.000000  \n",
       "mean    184.136430    1018.103048    0.445573  \n",
       "std     172.254524    5213.882348    0.497390  \n",
       "min       0.000000       1.000000    0.000000  \n",
       "25%      80.000000       1.000000    0.000000  \n",
       "50%     160.000000       6.000000    0.000000  \n",
       "75%     272.000000     395.000000    1.000000  \n",
       "max    2000.000000  100001.000000    1.000000  "
      ]
     },
     "execution_count": 17,
     "metadata": {},
     "output_type": "execute_result"
    }
   ],
   "source": [
    "data.describe()"
   ]
  },
  {
   "cell_type": "code",
   "execution_count": 18,
   "metadata": {},
   "outputs": [
    {
     "data": {
      "image/png": "[encoded data removed]",
      "text/plain": [
       "<matplotlib.figure.Figure at 0x24c62af4ef0>"
      ]
     },
     "metadata": {},
     "output_type": "display_data"
    }
   ],
   "source": [
    "from pandas.plotting import scatter_matrix\n",
    "scatter_matrix(data, alpha = .01, figsize = (15, 15))\n",
    "pass"
   ]
  },
  {
   "cell_type": "code",
   "execution_count": 19,
   "metadata": {},
   "outputs": [
    {
     "data": {
      "text/html": [
       "<div>\n",
       "<style>\n",
       "    .dataframe thead tr:only-child th {\n",
       "        text-align: right;\n",
       "    }\n",
       "\n",
       "    .dataframe thead th {\n",
       "        text-align: left;\n",
       "    }\n",
       "\n",
       "    .dataframe tbody tr th {\n",
       "        vertical-align: top;\n",
       "    }\n",
       "</style>\n",
       "<table border=\"1\" class=\"dataframe\">\n",
       "  <thead>\n",
       "    <tr style=\"text-align: right;\">\n",
       "      <th></th>\n",
       "      <th>A1</th>\n",
       "      <th>A2</th>\n",
       "      <th>A3</th>\n",
       "      <th>A4</th>\n",
       "      <th>A5</th>\n",
       "      <th>A6</th>\n",
       "      <th>A7</th>\n",
       "      <th>A8</th>\n",
       "      <th>A9</th>\n",
       "      <th>A10</th>\n",
       "      <th>A11</th>\n",
       "      <th>A12</th>\n",
       "      <th>A13</th>\n",
       "      <th>A14</th>\n",
       "      <th>class</th>\n",
       "    </tr>\n",
       "  </thead>\n",
       "  <tbody>\n",
       "    <tr>\n",
       "      <th>A1</th>\n",
       "      <td>1.000000</td>\n",
       "      <td>0.037490</td>\n",
       "      <td>-0.029562</td>\n",
       "      <td>-0.064107</td>\n",
       "      <td>-0.004410</td>\n",
       "      <td>0.053028</td>\n",
       "      <td>0.097236</td>\n",
       "      <td>0.001968</td>\n",
       "      <td>-0.062447</td>\n",
       "      <td>-0.007938</td>\n",
       "      <td>0.052961</td>\n",
       "      <td>-0.060162</td>\n",
       "      <td>0.059114</td>\n",
       "      <td>0.003580</td>\n",
       "      <td>-0.013014</td>\n",
       "    </tr>\n",
       "    <tr>\n",
       "      <th>A2</th>\n",
       "      <td>0.037490</td>\n",
       "      <td>1.000000</td>\n",
       "      <td>0.203244</td>\n",
       "      <td>0.090196</td>\n",
       "      <td>-0.095044</td>\n",
       "      <td>0.028121</td>\n",
       "      <td>0.392759</td>\n",
       "      <td>0.203381</td>\n",
       "      <td>0.082758</td>\n",
       "      <td>0.185119</td>\n",
       "      <td>0.056118</td>\n",
       "      <td>0.020990</td>\n",
       "      <td>-0.077776</td>\n",
       "      <td>0.018591</td>\n",
       "      <td>0.160753</td>\n",
       "    </tr>\n",
       "    <tr>\n",
       "      <th>A3</th>\n",
       "      <td>-0.029562</td>\n",
       "      <td>0.203244</td>\n",
       "      <td>1.000000</td>\n",
       "      <td>0.090603</td>\n",
       "      <td>0.029513</td>\n",
       "      <td>0.095319</td>\n",
       "      <td>0.299678</td>\n",
       "      <td>0.246887</td>\n",
       "      <td>0.176864</td>\n",
       "      <td>0.272580</td>\n",
       "      <td>-0.015184</td>\n",
       "      <td>0.093414</td>\n",
       "      <td>-0.221722</td>\n",
       "      <td>0.123211</td>\n",
       "      <td>0.208440</td>\n",
       "    </tr>\n",
       "    <tr>\n",
       "      <th>A4</th>\n",
       "      <td>-0.064107</td>\n",
       "      <td>0.090196</td>\n",
       "      <td>0.090603</td>\n",
       "      <td>1.000000</td>\n",
       "      <td>0.089642</td>\n",
       "      <td>0.046927</td>\n",
       "      <td>0.080794</td>\n",
       "      <td>0.130821</td>\n",
       "      <td>0.163269</td>\n",
       "      <td>0.106888</td>\n",
       "      <td>0.004111</td>\n",
       "      <td>0.006214</td>\n",
       "      <td>-0.001373</td>\n",
       "      <td>0.120061</td>\n",
       "      <td>0.195167</td>\n",
       "    </tr>\n",
       "    <tr>\n",
       "      <th>A5</th>\n",
       "      <td>-0.004410</td>\n",
       "      <td>-0.095044</td>\n",
       "      <td>0.029513</td>\n",
       "      <td>0.089642</td>\n",
       "      <td>1.000000</td>\n",
       "      <td>0.402101</td>\n",
       "      <td>0.144595</td>\n",
       "      <td>0.310876</td>\n",
       "      <td>0.222064</td>\n",
       "      <td>0.149627</td>\n",
       "      <td>0.026223</td>\n",
       "      <td>0.070584</td>\n",
       "      <td>0.087559</td>\n",
       "      <td>0.030804</td>\n",
       "      <td>0.372965</td>\n",
       "    </tr>\n",
       "    <tr>\n",
       "      <th>A6</th>\n",
       "      <td>0.053028</td>\n",
       "      <td>0.028121</td>\n",
       "      <td>0.095319</td>\n",
       "      <td>0.046927</td>\n",
       "      <td>0.402101</td>\n",
       "      <td>1.000000</td>\n",
       "      <td>0.240331</td>\n",
       "      <td>0.245881</td>\n",
       "      <td>0.080011</td>\n",
       "      <td>0.098617</td>\n",
       "      <td>0.094280</td>\n",
       "      <td>0.036560</td>\n",
       "      <td>0.070434</td>\n",
       "      <td>0.064865</td>\n",
       "      <td>0.246280</td>\n",
       "    </tr>\n",
       "    <tr>\n",
       "      <th>A7</th>\n",
       "      <td>0.097236</td>\n",
       "      <td>0.392759</td>\n",
       "      <td>0.299678</td>\n",
       "      <td>0.080794</td>\n",
       "      <td>0.144595</td>\n",
       "      <td>0.240331</td>\n",
       "      <td>1.000000</td>\n",
       "      <td>0.345683</td>\n",
       "      <td>0.222869</td>\n",
       "      <td>0.322258</td>\n",
       "      <td>0.138564</td>\n",
       "      <td>-0.016232</td>\n",
       "      <td>-0.076539</td>\n",
       "      <td>0.051357</td>\n",
       "      <td>0.322423</td>\n",
       "    </tr>\n",
       "    <tr>\n",
       "      <th>A8</th>\n",
       "      <td>0.001968</td>\n",
       "      <td>0.203381</td>\n",
       "      <td>0.246887</td>\n",
       "      <td>0.130821</td>\n",
       "      <td>0.310876</td>\n",
       "      <td>0.245881</td>\n",
       "      <td>0.345683</td>\n",
       "      <td>1.000000</td>\n",
       "      <td>0.431296</td>\n",
       "      <td>0.379150</td>\n",
       "      <td>0.093084</td>\n",
       "      <td>0.045453</td>\n",
       "      <td>-0.068195</td>\n",
       "      <td>0.090141</td>\n",
       "      <td>0.720038</td>\n",
       "    </tr>\n",
       "    <tr>\n",
       "      <th>A9</th>\n",
       "      <td>-0.062447</td>\n",
       "      <td>0.082758</td>\n",
       "      <td>0.176864</td>\n",
       "      <td>0.163269</td>\n",
       "      <td>0.222064</td>\n",
       "      <td>0.080011</td>\n",
       "      <td>0.222869</td>\n",
       "      <td>0.431296</td>\n",
       "      <td>1.000000</td>\n",
       "      <td>0.571289</td>\n",
       "      <td>0.018433</td>\n",
       "      <td>0.176499</td>\n",
       "      <td>-0.053972</td>\n",
       "      <td>0.077741</td>\n",
       "      <td>0.457693</td>\n",
       "    </tr>\n",
       "    <tr>\n",
       "      <th>A10</th>\n",
       "      <td>-0.007938</td>\n",
       "      <td>0.185119</td>\n",
       "      <td>0.272580</td>\n",
       "      <td>0.106888</td>\n",
       "      <td>0.149627</td>\n",
       "      <td>0.098617</td>\n",
       "      <td>0.322258</td>\n",
       "      <td>0.379150</td>\n",
       "      <td>0.571289</td>\n",
       "      <td>1.000000</td>\n",
       "      <td>0.007732</td>\n",
       "      <td>0.101672</td>\n",
       "      <td>-0.120200</td>\n",
       "      <td>0.063731</td>\n",
       "      <td>0.406076</td>\n",
       "    </tr>\n",
       "    <tr>\n",
       "      <th>A11</th>\n",
       "      <td>0.052961</td>\n",
       "      <td>0.056118</td>\n",
       "      <td>-0.015184</td>\n",
       "      <td>0.004111</td>\n",
       "      <td>0.026223</td>\n",
       "      <td>0.094280</td>\n",
       "      <td>0.138564</td>\n",
       "      <td>0.093084</td>\n",
       "      <td>0.018433</td>\n",
       "      <td>0.007732</td>\n",
       "      <td>1.000000</td>\n",
       "      <td>-0.044833</td>\n",
       "      <td>0.145174</td>\n",
       "      <td>0.019159</td>\n",
       "      <td>0.033086</td>\n",
       "    </tr>\n",
       "    <tr>\n",
       "      <th>A12</th>\n",
       "      <td>-0.060162</td>\n",
       "      <td>0.020990</td>\n",
       "      <td>0.093414</td>\n",
       "      <td>0.006214</td>\n",
       "      <td>0.070584</td>\n",
       "      <td>0.036560</td>\n",
       "      <td>-0.016232</td>\n",
       "      <td>0.045453</td>\n",
       "      <td>0.176499</td>\n",
       "      <td>0.101672</td>\n",
       "      <td>-0.044833</td>\n",
       "      <td>1.000000</td>\n",
       "      <td>-0.079135</td>\n",
       "      <td>0.139667</td>\n",
       "      <td>0.115642</td>\n",
       "    </tr>\n",
       "    <tr>\n",
       "      <th>A13</th>\n",
       "      <td>0.059114</td>\n",
       "      <td>-0.077776</td>\n",
       "      <td>-0.221722</td>\n",
       "      <td>-0.001373</td>\n",
       "      <td>0.087559</td>\n",
       "      <td>0.070434</td>\n",
       "      <td>-0.076539</td>\n",
       "      <td>-0.068195</td>\n",
       "      <td>-0.053972</td>\n",
       "      <td>-0.120200</td>\n",
       "      <td>0.145174</td>\n",
       "      <td>-0.079135</td>\n",
       "      <td>1.000000</td>\n",
       "      <td>0.065647</td>\n",
       "      <td>-0.100683</td>\n",
       "    </tr>\n",
       "    <tr>\n",
       "      <th>A14</th>\n",
       "      <td>0.003580</td>\n",
       "      <td>0.018591</td>\n",
       "      <td>0.123211</td>\n",
       "      <td>0.120061</td>\n",
       "      <td>0.030804</td>\n",
       "      <td>0.064865</td>\n",
       "      <td>0.051357</td>\n",
       "      <td>0.090141</td>\n",
       "      <td>0.077741</td>\n",
       "      <td>0.063731</td>\n",
       "      <td>0.019159</td>\n",
       "      <td>0.139667</td>\n",
       "      <td>0.065647</td>\n",
       "      <td>1.000000</td>\n",
       "      <td>0.175808</td>\n",
       "    </tr>\n",
       "    <tr>\n",
       "      <th>class</th>\n",
       "      <td>-0.013014</td>\n",
       "      <td>0.160753</td>\n",
       "      <td>0.208440</td>\n",
       "      <td>0.195167</td>\n",
       "      <td>0.372965</td>\n",
       "      <td>0.246280</td>\n",
       "      <td>0.322423</td>\n",
       "      <td>0.720038</td>\n",
       "      <td>0.457693</td>\n",
       "      <td>0.406076</td>\n",
       "      <td>0.033086</td>\n",
       "      <td>0.115642</td>\n",
       "      <td>-0.100683</td>\n",
       "      <td>0.175808</td>\n",
       "      <td>1.000000</td>\n",
       "    </tr>\n",
       "  </tbody>\n",
       "</table>\n",
       "</div>"
      ],
      "text/plain": [
       "             A1        A2        A3        A4        A5        A6        A7  \\\n",
       "A1     1.000000  0.037490 -0.029562 -0.064107 -0.004410  0.053028  0.097236   \n",
       "A2     0.037490  1.000000  0.203244  0.090196 -0.095044  0.028121  0.392759   \n",
       "A3    -0.029562  0.203244  1.000000  0.090603  0.029513  0.095319  0.299678   \n",
       "A4    -0.064107  0.090196  0.090603  1.000000  0.089642  0.046927  0.080794   \n",
       "A5    -0.004410 -0.095044  0.029513  0.089642  1.000000  0.402101  0.144595   \n",
       "A6     0.053028  0.028121  0.095319  0.046927  0.402101  1.000000  0.240331   \n",
       "A7     0.097236  0.392759  0.299678  0.080794  0.144595  0.240331  1.000000   \n",
       "A8     0.001968  0.203381  0.246887  0.130821  0.310876  0.245881  0.345683   \n",
       "A9    -0.062447  0.082758  0.176864  0.163269  0.222064  0.080011  0.222869   \n",
       "A10   -0.007938  0.185119  0.272580  0.106888  0.149627  0.098617  0.322258   \n",
       "A11    0.052961  0.056118 -0.015184  0.004111  0.026223  0.094280  0.138564   \n",
       "A12   -0.060162  0.020990  0.093414  0.006214  0.070584  0.036560 -0.016232   \n",
       "A13    0.059114 -0.077776 -0.221722 -0.001373  0.087559  0.070434 -0.076539   \n",
       "A14    0.003580  0.018591  0.123211  0.120061  0.030804  0.064865  0.051357   \n",
       "class -0.013014  0.160753  0.208440  0.195167  0.372965  0.246280  0.322423   \n",
       "\n",
       "             A8        A9       A10       A11       A12       A13       A14  \\\n",
       "A1     0.001968 -0.062447 -0.007938  0.052961 -0.060162  0.059114  0.003580   \n",
       "A2     0.203381  0.082758  0.185119  0.056118  0.020990 -0.077776  0.018591   \n",
       "A3     0.246887  0.176864  0.272580 -0.015184  0.093414 -0.221722  0.123211   \n",
       "A4     0.130821  0.163269  0.106888  0.004111  0.006214 -0.001373  0.120061   \n",
       "A5     0.310876  0.222064  0.149627  0.026223  0.070584  0.087559  0.030804   \n",
       "A6     0.245881  0.080011  0.098617  0.094280  0.036560  0.070434  0.064865   \n",
       "A7     0.345683  0.222869  0.322258  0.138564 -0.016232 -0.076539  0.051357   \n",
       "A8     1.000000  0.431296  0.379150  0.093084  0.045453 -0.068195  0.090141   \n",
       "A9     0.431296  1.000000  0.571289  0.018433  0.176499 -0.053972  0.077741   \n",
       "A10    0.379150  0.571289  1.000000  0.007732  0.101672 -0.120200  0.063731   \n",
       "A11    0.093084  0.018433  0.007732  1.000000 -0.044833  0.145174  0.019159   \n",
       "A12    0.045453  0.176499  0.101672 -0.044833  1.000000 -0.079135  0.139667   \n",
       "A13   -0.068195 -0.053972 -0.120200  0.145174 -0.079135  1.000000  0.065647   \n",
       "A14    0.090141  0.077741  0.063731  0.019159  0.139667  0.065647  1.000000   \n",
       "class  0.720038  0.457693  0.406076  0.033086  0.115642 -0.100683  0.175808   \n",
       "\n",
       "          class  \n",
       "A1    -0.013014  \n",
       "A2     0.160753  \n",
       "A3     0.208440  \n",
       "A4     0.195167  \n",
       "A5     0.372965  \n",
       "A6     0.246280  \n",
       "A7     0.322423  \n",
       "A8     0.720038  \n",
       "A9     0.457693  \n",
       "A10    0.406076  \n",
       "A11    0.033086  \n",
       "A12    0.115642  \n",
       "A13   -0.100683  \n",
       "A14    0.175808  \n",
       "class  1.000000  "
      ]
     },
     "execution_count": 19,
     "metadata": {},
     "output_type": "execute_result"
    }
   ],
   "source": [
    "data.corr()"
   ]
  },
  {
   "cell_type": "code",
   "execution_count": 20,
   "metadata": {},
   "outputs": [
    {
     "data": {
      "image/png": "[encoded data removed]",
      "text/plain": [
       "<matplotlib.figure.Figure at 0x24c6cba1e48>"
      ]
     },
     "metadata": {},
     "output_type": "display_data"
    }
   ],
   "source": [
    "plt.plot(data['class'], data['A2'], '*', alpha = 0.05)\n",
    "plt.xlabel('class')\n",
    "#plt.xlim(0, 1)\n",
    "plt.ylabel('A2')\n",
    "plt.title('class vs A2')\n",
    "pass"
   ]
  },
  {
   "cell_type": "code",
   "execution_count": 21,
   "metadata": {},
   "outputs": [
    {
     "data": {
      "text/plain": [
       "0      False\n",
       "1      False\n",
       "2       True\n",
       "3       True\n",
       "4       True\n",
       "5      False\n",
       "6       True\n",
       "7      False\n",
       "8      False\n",
       "9       True\n",
       "10      True\n",
       "11     False\n",
       "12      True\n",
       "13     False\n",
       "14      True\n",
       "15      True\n",
       "16      True\n",
       "17     False\n",
       "18      True\n",
       "19     False\n",
       "20     False\n",
       "21     False\n",
       "22     False\n",
       "23     False\n",
       "24      True\n",
       "25     False\n",
       "26      True\n",
       "27      True\n",
       "28      True\n",
       "29      True\n",
       "       ...  \n",
       "659     True\n",
       "660    False\n",
       "661     True\n",
       "662     True\n",
       "663    False\n",
       "664    False\n",
       "665    False\n",
       "666    False\n",
       "667    False\n",
       "668    False\n",
       "669     True\n",
       "670     True\n",
       "671    False\n",
       "672     True\n",
       "673     True\n",
       "674    False\n",
       "675    False\n",
       "676    False\n",
       "677    False\n",
       "678     True\n",
       "679    False\n",
       "680    False\n",
       "681     True\n",
       "682    False\n",
       "683     True\n",
       "684     True\n",
       "685    False\n",
       "686     True\n",
       "687     True\n",
       "688     True\n",
       "Name: class, Length: 689, dtype: bool"
      ]
     },
     "execution_count": 21,
     "metadata": {},
     "output_type": "execute_result"
    }
   ],
   "source": [
    "data['class'] == 1"
   ]
  },
  {
   "cell_type": "code",
   "execution_count": 22,
   "metadata": {},
   "outputs": [
    {
     "data": {
      "image/png": "[encoded data removed]",
      "text/plain": [
       "<matplotlib.figure.Figure at 0x24c6cc5e208>"
      ]
     },
     "metadata": {},
     "output_type": "display_data"
    }
   ],
   "source": [
    "plt.figure(figsize = (10, 6))\n",
    "\n",
    "plt.scatter(data[data['class'] == 0]['A5'],\n",
    "            data[data['class'] == 0]['A2'],\n",
    "            alpha = 0.5,\n",
    "            label = 'class 0',\n",
    "            color = 'b')\n",
    "\n",
    "plt.scatter(data[data['class'] == 1]['A5'],\n",
    "            data[data['class'] == 1]['A2'],\n",
    "            alpha = 0.35,\n",
    "            label = 'class 1',\n",
    "            color = 'r')\n",
    "\n",
    "plt.xlabel('A5')\n",
    "#plt.xticks(range(2))\n",
    "#plt.xlim(0, 1)\n",
    "plt.ylabel('A2')\n",
    "plt.legend()\n",
    "plt.grid()"
   ]
  },
  {
   "cell_type": "code",
   "execution_count": 23,
   "metadata": {},
   "outputs": [
    {
     "data": {
      "image/png": "[encoded data removed]",
      "text/plain": [
       "<matplotlib.figure.Figure at 0x24c6a801e10>"
      ]
     },
     "metadata": {},
     "output_type": "display_data"
    }
   ],
   "source": [
    "np.random.seed(0)\n",
    "attribute_5_rnd = data['A5'] #+ np.random.rand(data.shape[0]) - .5\n",
    "\n",
    "plt.figure(figsize = (10, 8))\n",
    "\n",
    "plt.scatter(attribute_5_rnd[data['class'] == 0],\n",
    "            data[data['class'] == 0]['A3'],\n",
    "            alpha = 0.5,\n",
    "            label = 'class 0',\n",
    "            color = 'b')\n",
    "\n",
    "plt.scatter(attribute_5_rnd[data['class'] == 1],\n",
    "            data[data['class'] == 1]['A3'],\n",
    "            alpha = 0.35,\n",
    "            label = 'class 1',\n",
    "            color = 'r')\n",
    "\n",
    "plt.xlabel('Attribute 5')\n",
    "plt.ylabel('Attribute 3')\n",
    "plt.grid()"
   ]
  },
  {
   "cell_type": "code",
   "execution_count": 24,
   "metadata": {
    "collapsed": true
   },
   "outputs": [],
   "source": [
    "#data.describe(include = ['int64'])"
   ]
  },
  {
   "cell_type": "markdown",
   "metadata": {},
   "source": [
    "*Значения атрибута А5 и его тип:*"
   ]
  },
  {
   "cell_type": "code",
   "execution_count": 25,
   "metadata": {},
   "outputs": [
    {
     "data": {
      "text/plain": [
       "array([ 8,  4,  5,  6,  3, 11,  2, 14,  9, 13,  7,  1, 10, 12], dtype=int64)"
      ]
     },
     "execution_count": 25,
     "metadata": {},
     "output_type": "execute_result"
    }
   ],
   "source": [
    "data['A5'].unique()"
   ]
  },
  {
   "cell_type": "markdown",
   "metadata": {},
   "source": [
    "*Для первого упоминания каждой категории атрибута А5 выводим соответсвующее значение атрибута A2:*"
   ]
  },
  {
   "cell_type": "code",
   "execution_count": 26,
   "metadata": {},
   "outputs": [
    {
     "name": "stdout",
     "output_type": "stream",
     "text": [
      "8 22.67\n",
      "4 29.58\n",
      "5 21.67\n",
      "6 20.17\n",
      "3 17.42\n",
      "11 58.67\n",
      "2 27.83\n",
      "14 33.5\n",
      "9 29.58\n",
      "13 32.75\n",
      "7 42.83\n",
      "1 74.83\n",
      "10 29.5\n",
      "12 33.17\n"
     ]
    }
   ],
   "source": [
    "for category in data['A5'].unique():\n",
    "    print(category, data['A2'][data['A5'] == category].iloc[0])"
   ]
  },
  {
   "cell_type": "markdown",
   "metadata": {},
   "source": [
    "# Задача\n",
    "\n",
    "Будем определять принадлежность к классу (0 или 1) по данным параметрам"
   ]
  },
  {
   "cell_type": "markdown",
   "metadata": {},
   "source": [
    "*Убираем незначащие данные:*"
   ]
  },
  {
   "cell_type": "code",
   "execution_count": 27,
   "metadata": {
    "collapsed": true
   },
   "outputs": [],
   "source": [
    "#data = data.drop('capital-gain', axis = 1)\\\n",
    "#            .drop('capital-loss', axis = 1)\\\n",
    "#           .drop('education',    axis = 1)\\\n",
    "#           .drop('native-country', axis = 1).drop('fnlwgt', axis = 1)"
   ]
  },
  {
   "cell_type": "markdown",
   "metadata": {},
   "source": [
    "## Подготовка данных"
   ]
  },
  {
   "cell_type": "code",
   "execution_count": 28,
   "metadata": {},
   "outputs": [
    {
     "name": "stdout",
     "output_type": "stream",
     "text": [
      "['A1', 'A4', 'A5', 'A8', 'A9', 'A11', 'A12', 'class']\n",
      "['A2', 'A3', 'A6', 'A7', 'A10', 'A13', 'A14']\n"
     ]
    }
   ],
   "source": [
    "#Категоричные колонки\n",
    "#categorical = [c for c in data.columns if data[c].dtype.name == 'int64']\n",
    "categorical = [u'A1', u'A4', u'A5', u'A8', u'A9', u'A11', u'A12', u'class']\n",
    "#Колонки с численными данными\n",
    "numerical   = [c for c in data.columns if c not in categorical]\n",
    "print(categorical)\n",
    "print(numerical)"
   ]
  },
  {
   "cell_type": "markdown",
   "metadata": {},
   "source": [
    "## Обработка пропущенных значений\n",
    "Если данные содержат пропущенные значения, то имеется две простые альтернативы:  \n",
    "* удалить столбцы с такими значениями (data = data.dropna(axis = 1)),  \n",
    "* удалить строки с такими значениями (data = data.dropna(axis = 0)).\n",
    "  \n",
    "После этого данных может стать совсем мало.  \n",
    "  \n",
    "Куда более эффективным (и в то же время по-прежнему простым) методом обычно является заполнение пропущенных значений для каждой количественной переменной их средним или медианным значением. Для категориальных признаков пропущенные значения можно заполнить самым популярным значением в столбце."
   ]
  },
  {
   "cell_type": "code",
   "execution_count": 29,
   "metadata": {},
   "outputs": [
    {
     "data": {
      "text/plain": [
       "A1       689\n",
       "A2       689\n",
       "A3       689\n",
       "A4       689\n",
       "A5       689\n",
       "A6       689\n",
       "A7       689\n",
       "A8       689\n",
       "A9       689\n",
       "A10      689\n",
       "A11      689\n",
       "A12      689\n",
       "A13      689\n",
       "A14      689\n",
       "class    689\n",
       "dtype: int64"
      ]
     },
     "execution_count": 29,
     "metadata": {},
     "output_type": "execute_result"
    }
   ],
   "source": [
    "data.count(axis=0)"
   ]
  },
  {
   "cell_type": "markdown",
   "metadata": {},
   "source": [
    "В описании данной базы данных говорится, что 37 строк (около 5% всех данных) содержали один или больше пропущенных значений.   \n",
    "\n",
    "Аттрибуты из которых были пропущены значения:  \n",
    "  \n",
    "    A1:  12\n",
    "    A2:  12\n",
    "    A4:   6\n",
    "    A5:   6\n",
    "    A6:   9\n",
    "    A7:   9\n",
    "    A14: 13\n",
    "    \n",
    "   Эти значения были заменены:\n",
    "   * на моду данного атрибута (для категориального признака)\n",
    "   * на среднее значение по данному атрибуту (для численного признака)"
   ]
  },
  {
   "cell_type": "markdown",
   "metadata": {},
   "source": [
    "## Векторизация\n",
    "В данной базе данных значения категориальных признаков уже были представлены в числовом виде, поэтому векторизацию проводить не нужно."
   ]
  },
  {
   "cell_type": "code",
   "execution_count": 30,
   "metadata": {},
   "outputs": [
    {
     "name": "stdout",
     "output_type": "stream",
     "text": [
      "['A1', 'A8', 'A9', 'A11', 'class'] ['A4', 'A5', 'A12']\n"
     ]
    }
   ],
   "source": [
    "binary_columns    = [c for c in categorical if len(data[c].unique()) == 2]\n",
    "nonbinary_columns = [c for c in categorical if len(data[c].unique()) > 2]\n",
    "print(binary_columns, nonbinary_columns)"
   ]
  },
  {
   "cell_type": "markdown",
   "metadata": {},
   "source": [
    "## Нормализация количественных признаков\n",
    "Многие алгоритмы машинного обучения чувствительны к масштабированию данных. К таким алгоритмам, например, относится метод ближайших соседей, машина опорных векторов и др.  \n",
    "  \n",
    "В этом случае количественные признаки полезно нормализовать. Это можно делать разными способами. Например, каждый количественный признак приведем к нулевому среднему и единичному среднеквадратичному отклонению:"
   ]
  },
  {
   "cell_type": "code",
   "execution_count": 31,
   "metadata": {},
   "outputs": [
    {
     "data": {
      "text/html": [
       "<div>\n",
       "<style>\n",
       "    .dataframe thead tr:only-child th {\n",
       "        text-align: right;\n",
       "    }\n",
       "\n",
       "    .dataframe thead th {\n",
       "        text-align: left;\n",
       "    }\n",
       "\n",
       "    .dataframe tbody tr th {\n",
       "        vertical-align: top;\n",
       "    }\n",
       "</style>\n",
       "<table border=\"1\" class=\"dataframe\">\n",
       "  <thead>\n",
       "    <tr style=\"text-align: right;\">\n",
       "      <th></th>\n",
       "      <th>A2</th>\n",
       "      <th>A3</th>\n",
       "      <th>A6</th>\n",
       "      <th>A7</th>\n",
       "      <th>A10</th>\n",
       "      <th>A13</th>\n",
       "      <th>A14</th>\n",
       "    </tr>\n",
       "  </thead>\n",
       "  <tbody>\n",
       "    <tr>\n",
       "      <th>count</th>\n",
       "      <td>689.000000</td>\n",
       "      <td>689.000000</td>\n",
       "      <td>689.000000</td>\n",
       "      <td>689.000000</td>\n",
       "      <td>689.000000</td>\n",
       "      <td>689.000000</td>\n",
       "      <td>689.000000</td>\n",
       "    </tr>\n",
       "    <tr>\n",
       "      <th>mean</th>\n",
       "      <td>31.581974</td>\n",
       "      <td>4.748999</td>\n",
       "      <td>4.693759</td>\n",
       "      <td>2.224332</td>\n",
       "      <td>2.403483</td>\n",
       "      <td>184.136430</td>\n",
       "      <td>1018.103048</td>\n",
       "    </tr>\n",
       "    <tr>\n",
       "      <th>std</th>\n",
       "      <td>11.856359</td>\n",
       "      <td>4.975215</td>\n",
       "      <td>1.993588</td>\n",
       "      <td>3.348856</td>\n",
       "      <td>4.865611</td>\n",
       "      <td>172.254524</td>\n",
       "      <td>5213.882348</td>\n",
       "    </tr>\n",
       "    <tr>\n",
       "      <th>min</th>\n",
       "      <td>13.750000</td>\n",
       "      <td>0.000000</td>\n",
       "      <td>1.000000</td>\n",
       "      <td>0.000000</td>\n",
       "      <td>0.000000</td>\n",
       "      <td>0.000000</td>\n",
       "      <td>1.000000</td>\n",
       "    </tr>\n",
       "    <tr>\n",
       "      <th>25%</th>\n",
       "      <td>22.670000</td>\n",
       "      <td>1.000000</td>\n",
       "      <td>4.000000</td>\n",
       "      <td>0.165000</td>\n",
       "      <td>0.000000</td>\n",
       "      <td>80.000000</td>\n",
       "      <td>1.000000</td>\n",
       "    </tr>\n",
       "    <tr>\n",
       "      <th>50%</th>\n",
       "      <td>28.670000</td>\n",
       "      <td>2.750000</td>\n",
       "      <td>4.000000</td>\n",
       "      <td>1.000000</td>\n",
       "      <td>0.000000</td>\n",
       "      <td>160.000000</td>\n",
       "      <td>6.000000</td>\n",
       "    </tr>\n",
       "    <tr>\n",
       "      <th>75%</th>\n",
       "      <td>37.750000</td>\n",
       "      <td>7.080000</td>\n",
       "      <td>5.000000</td>\n",
       "      <td>2.625000</td>\n",
       "      <td>3.000000</td>\n",
       "      <td>272.000000</td>\n",
       "      <td>395.000000</td>\n",
       "    </tr>\n",
       "    <tr>\n",
       "      <th>max</th>\n",
       "      <td>80.250000</td>\n",
       "      <td>28.000000</td>\n",
       "      <td>9.000000</td>\n",
       "      <td>28.500000</td>\n",
       "      <td>67.000000</td>\n",
       "      <td>2000.000000</td>\n",
       "      <td>100001.000000</td>\n",
       "    </tr>\n",
       "  </tbody>\n",
       "</table>\n",
       "</div>"
      ],
      "text/plain": [
       "               A2          A3          A6          A7         A10  \\\n",
       "count  689.000000  689.000000  689.000000  689.000000  689.000000   \n",
       "mean    31.581974    4.748999    4.693759    2.224332    2.403483   \n",
       "std     11.856359    4.975215    1.993588    3.348856    4.865611   \n",
       "min     13.750000    0.000000    1.000000    0.000000    0.000000   \n",
       "25%     22.670000    1.000000    4.000000    0.165000    0.000000   \n",
       "50%     28.670000    2.750000    4.000000    1.000000    0.000000   \n",
       "75%     37.750000    7.080000    5.000000    2.625000    3.000000   \n",
       "max     80.250000   28.000000    9.000000   28.500000   67.000000   \n",
       "\n",
       "               A13            A14  \n",
       "count   689.000000     689.000000  \n",
       "mean    184.136430    1018.103048  \n",
       "std     172.254524    5213.882348  \n",
       "min       0.000000       1.000000  \n",
       "25%      80.000000       1.000000  \n",
       "50%     160.000000       6.000000  \n",
       "75%     272.000000     395.000000  \n",
       "max    2000.000000  100001.000000  "
      ]
     },
     "execution_count": 31,
     "metadata": {},
     "output_type": "execute_result"
    }
   ],
   "source": [
    "data_numerical = data[numerical]\n",
    "data_numerical.describe()"
   ]
  },
  {
   "cell_type": "code",
   "execution_count": 32,
   "metadata": {},
   "outputs": [
    {
     "data": {
      "text/html": [
       "<div>\n",
       "<style>\n",
       "    .dataframe thead tr:only-child th {\n",
       "        text-align: right;\n",
       "    }\n",
       "\n",
       "    .dataframe thead th {\n",
       "        text-align: left;\n",
       "    }\n",
       "\n",
       "    .dataframe tbody tr th {\n",
       "        vertical-align: top;\n",
       "    }\n",
       "</style>\n",
       "<table border=\"1\" class=\"dataframe\">\n",
       "  <thead>\n",
       "    <tr style=\"text-align: right;\">\n",
       "      <th></th>\n",
       "      <th>A2</th>\n",
       "      <th>A3</th>\n",
       "      <th>A6</th>\n",
       "      <th>A7</th>\n",
       "      <th>A10</th>\n",
       "      <th>A13</th>\n",
       "      <th>A14</th>\n",
       "    </tr>\n",
       "  </thead>\n",
       "  <tbody>\n",
       "    <tr>\n",
       "      <th>count</th>\n",
       "      <td>6.890000e+02</td>\n",
       "      <td>6.890000e+02</td>\n",
       "      <td>6.890000e+02</td>\n",
       "      <td>6.890000e+02</td>\n",
       "      <td>6.890000e+02</td>\n",
       "      <td>6.890000e+02</td>\n",
       "      <td>6.890000e+02</td>\n",
       "    </tr>\n",
       "    <tr>\n",
       "      <th>mean</th>\n",
       "      <td>6.601074e-15</td>\n",
       "      <td>4.730936e-16</td>\n",
       "      <td>1.200459e-17</td>\n",
       "      <td>5.894334e-16</td>\n",
       "      <td>3.910757e-16</td>\n",
       "      <td>3.931704e-17</td>\n",
       "      <td>-7.239009e-17</td>\n",
       "    </tr>\n",
       "    <tr>\n",
       "      <th>std</th>\n",
       "      <td>1.000000e+00</td>\n",
       "      <td>1.000000e+00</td>\n",
       "      <td>1.000000e+00</td>\n",
       "      <td>1.000000e+00</td>\n",
       "      <td>1.000000e+00</td>\n",
       "      <td>1.000000e+00</td>\n",
       "      <td>1.000000e+00</td>\n",
       "    </tr>\n",
       "    <tr>\n",
       "      <th>min</th>\n",
       "      <td>-1.504001e+00</td>\n",
       "      <td>-9.545313e-01</td>\n",
       "      <td>-1.852819e+00</td>\n",
       "      <td>-6.642066e-01</td>\n",
       "      <td>-4.939735e-01</td>\n",
       "      <td>-1.068979e+00</td>\n",
       "      <td>-1.950759e-01</td>\n",
       "    </tr>\n",
       "    <tr>\n",
       "      <th>25%</th>\n",
       "      <td>-7.516619e-01</td>\n",
       "      <td>-7.535350e-01</td>\n",
       "      <td>-3.479952e-01</td>\n",
       "      <td>-6.149361e-01</td>\n",
       "      <td>-4.939735e-01</td>\n",
       "      <td>-6.045498e-01</td>\n",
       "      <td>-1.950759e-01</td>\n",
       "    </tr>\n",
       "    <tr>\n",
       "      <th>50%</th>\n",
       "      <td>-2.456044e-01</td>\n",
       "      <td>-4.017914e-01</td>\n",
       "      <td>-3.479952e-01</td>\n",
       "      <td>-3.655972e-01</td>\n",
       "      <td>-4.939735e-01</td>\n",
       "      <td>-1.401207e-01</td>\n",
       "      <td>-1.941170e-01</td>\n",
       "    </tr>\n",
       "    <tr>\n",
       "      <th>75%</th>\n",
       "      <td>5.202294e-01</td>\n",
       "      <td>4.685228e-01</td>\n",
       "      <td>1.536129e-01</td>\n",
       "      <td>1.196431e-01</td>\n",
       "      <td>1.225985e-01</td>\n",
       "      <td>5.100799e-01</td>\n",
       "      <td>-1.195085e-01</td>\n",
       "    </tr>\n",
       "    <tr>\n",
       "      <th>max</th>\n",
       "      <td>4.104804e+00</td>\n",
       "      <td>4.673366e+00</td>\n",
       "      <td>2.160045e+00</td>\n",
       "      <td>7.846162e+00</td>\n",
       "      <td>1.327614e+01</td>\n",
       "      <td>1.054175e+01</td>\n",
       "      <td>1.898449e+01</td>\n",
       "    </tr>\n",
       "  </tbody>\n",
       "</table>\n",
       "</div>"
      ],
      "text/plain": [
       "                 A2            A3            A6            A7           A10  \\\n",
       "count  6.890000e+02  6.890000e+02  6.890000e+02  6.890000e+02  6.890000e+02   \n",
       "mean   6.601074e-15  4.730936e-16  1.200459e-17  5.894334e-16  3.910757e-16   \n",
       "std    1.000000e+00  1.000000e+00  1.000000e+00  1.000000e+00  1.000000e+00   \n",
       "min   -1.504001e+00 -9.545313e-01 -1.852819e+00 -6.642066e-01 -4.939735e-01   \n",
       "25%   -7.516619e-01 -7.535350e-01 -3.479952e-01 -6.149361e-01 -4.939735e-01   \n",
       "50%   -2.456044e-01 -4.017914e-01 -3.479952e-01 -3.655972e-01 -4.939735e-01   \n",
       "75%    5.202294e-01  4.685228e-01  1.536129e-01  1.196431e-01  1.225985e-01   \n",
       "max    4.104804e+00  4.673366e+00  2.160045e+00  7.846162e+00  1.327614e+01   \n",
       "\n",
       "                A13           A14  \n",
       "count  6.890000e+02  6.890000e+02  \n",
       "mean   3.931704e-17 -7.239009e-17  \n",
       "std    1.000000e+00  1.000000e+00  \n",
       "min   -1.068979e+00 -1.950759e-01  \n",
       "25%   -6.045498e-01 -1.950759e-01  \n",
       "50%   -1.401207e-01 -1.941170e-01  \n",
       "75%    5.100799e-01 -1.195085e-01  \n",
       "max    1.054175e+01  1.898449e+01  "
      ]
     },
     "execution_count": 32,
     "metadata": {},
     "output_type": "execute_result"
    }
   ],
   "source": [
    "data_numerical = (data_numerical - data_numerical.mean(axis = 0))/data_numerical.std(axis = 0)\n",
    "data_numerical.describe()"
   ]
  },
  {
   "cell_type": "markdown",
   "metadata": {},
   "source": [
    "## Соединяем все в одну таблицу"
   ]
  },
  {
   "cell_type": "code",
   "execution_count": 33,
   "metadata": {},
   "outputs": [
    {
     "name": "stdout",
     "output_type": "stream",
     "text": [
      "(689, 15)\n"
     ]
    }
   ],
   "source": [
    "data = pd.concat((data_numerical, data[nonbinary_columns], data[binary_columns]), axis = 1)\n",
    "print(data.shape)"
   ]
  },
  {
   "cell_type": "code",
   "execution_count": 34,
   "metadata": {},
   "outputs": [
    {
     "data": {
      "text/html": [
       "<div>\n",
       "<style>\n",
       "    .dataframe thead tr:only-child th {\n",
       "        text-align: right;\n",
       "    }\n",
       "\n",
       "    .dataframe thead th {\n",
       "        text-align: left;\n",
       "    }\n",
       "\n",
       "    .dataframe tbody tr th {\n",
       "        vertical-align: top;\n",
       "    }\n",
       "</style>\n",
       "<table border=\"1\" class=\"dataframe\">\n",
       "  <thead>\n",
       "    <tr style=\"text-align: right;\">\n",
       "      <th></th>\n",
       "      <th>A2</th>\n",
       "      <th>A3</th>\n",
       "      <th>A6</th>\n",
       "      <th>A7</th>\n",
       "      <th>A10</th>\n",
       "      <th>A13</th>\n",
       "      <th>A14</th>\n",
       "      <th>A4</th>\n",
       "      <th>A5</th>\n",
       "      <th>A12</th>\n",
       "      <th>A1</th>\n",
       "      <th>A8</th>\n",
       "      <th>A9</th>\n",
       "      <th>A11</th>\n",
       "      <th>class</th>\n",
       "    </tr>\n",
       "  </thead>\n",
       "  <tbody>\n",
       "    <tr>\n",
       "      <th>count</th>\n",
       "      <td>6.890000e+02</td>\n",
       "      <td>6.890000e+02</td>\n",
       "      <td>6.890000e+02</td>\n",
       "      <td>6.890000e+02</td>\n",
       "      <td>6.890000e+02</td>\n",
       "      <td>6.890000e+02</td>\n",
       "      <td>6.890000e+02</td>\n",
       "      <td>689.000000</td>\n",
       "      <td>689.000000</td>\n",
       "      <td>689.000000</td>\n",
       "      <td>689.000000</td>\n",
       "      <td>689.000000</td>\n",
       "      <td>689.000000</td>\n",
       "      <td>689.000000</td>\n",
       "      <td>689.000000</td>\n",
       "    </tr>\n",
       "    <tr>\n",
       "      <th>mean</th>\n",
       "      <td>6.601074e-15</td>\n",
       "      <td>4.730936e-16</td>\n",
       "      <td>1.200459e-17</td>\n",
       "      <td>5.894334e-16</td>\n",
       "      <td>3.910757e-16</td>\n",
       "      <td>3.931704e-17</td>\n",
       "      <td>-7.239009e-17</td>\n",
       "      <td>1.766328</td>\n",
       "      <td>7.377358</td>\n",
       "      <td>1.928882</td>\n",
       "      <td>0.677794</td>\n",
       "      <td>0.523948</td>\n",
       "      <td>0.428157</td>\n",
       "      <td>0.457184</td>\n",
       "      <td>0.445573</td>\n",
       "    </tr>\n",
       "    <tr>\n",
       "      <th>std</th>\n",
       "      <td>1.000000e+00</td>\n",
       "      <td>1.000000e+00</td>\n",
       "      <td>1.000000e+00</td>\n",
       "      <td>1.000000e+00</td>\n",
       "      <td>1.000000e+00</td>\n",
       "      <td>1.000000e+00</td>\n",
       "      <td>1.000000e+00</td>\n",
       "      <td>0.430283</td>\n",
       "      <td>3.683694</td>\n",
       "      <td>0.299018</td>\n",
       "      <td>0.467661</td>\n",
       "      <td>0.499789</td>\n",
       "      <td>0.495171</td>\n",
       "      <td>0.498525</td>\n",
       "      <td>0.497390</td>\n",
       "    </tr>\n",
       "    <tr>\n",
       "      <th>min</th>\n",
       "      <td>-1.504001e+00</td>\n",
       "      <td>-9.545313e-01</td>\n",
       "      <td>-1.852819e+00</td>\n",
       "      <td>-6.642066e-01</td>\n",
       "      <td>-4.939735e-01</td>\n",
       "      <td>-1.068979e+00</td>\n",
       "      <td>-1.950759e-01</td>\n",
       "      <td>1.000000</td>\n",
       "      <td>1.000000</td>\n",
       "      <td>1.000000</td>\n",
       "      <td>0.000000</td>\n",
       "      <td>0.000000</td>\n",
       "      <td>0.000000</td>\n",
       "      <td>0.000000</td>\n",
       "      <td>0.000000</td>\n",
       "    </tr>\n",
       "    <tr>\n",
       "      <th>25%</th>\n",
       "      <td>-7.516619e-01</td>\n",
       "      <td>-7.535350e-01</td>\n",
       "      <td>-3.479952e-01</td>\n",
       "      <td>-6.149361e-01</td>\n",
       "      <td>-4.939735e-01</td>\n",
       "      <td>-6.045498e-01</td>\n",
       "      <td>-1.950759e-01</td>\n",
       "      <td>2.000000</td>\n",
       "      <td>4.000000</td>\n",
       "      <td>2.000000</td>\n",
       "      <td>0.000000</td>\n",
       "      <td>0.000000</td>\n",
       "      <td>0.000000</td>\n",
       "      <td>0.000000</td>\n",
       "      <td>0.000000</td>\n",
       "    </tr>\n",
       "    <tr>\n",
       "      <th>50%</th>\n",
       "      <td>-2.456044e-01</td>\n",
       "      <td>-4.017914e-01</td>\n",
       "      <td>-3.479952e-01</td>\n",
       "      <td>-3.655972e-01</td>\n",
       "      <td>-4.939735e-01</td>\n",
       "      <td>-1.401207e-01</td>\n",
       "      <td>-1.941170e-01</td>\n",
       "      <td>2.000000</td>\n",
       "      <td>8.000000</td>\n",
       "      <td>2.000000</td>\n",
       "      <td>1.000000</td>\n",
       "      <td>1.000000</td>\n",
       "      <td>0.000000</td>\n",
       "      <td>0.000000</td>\n",
       "      <td>0.000000</td>\n",
       "    </tr>\n",
       "    <tr>\n",
       "      <th>75%</th>\n",
       "      <td>5.202294e-01</td>\n",
       "      <td>4.685228e-01</td>\n",
       "      <td>1.536129e-01</td>\n",
       "      <td>1.196431e-01</td>\n",
       "      <td>1.225985e-01</td>\n",
       "      <td>5.100799e-01</td>\n",
       "      <td>-1.195085e-01</td>\n",
       "      <td>2.000000</td>\n",
       "      <td>10.000000</td>\n",
       "      <td>2.000000</td>\n",
       "      <td>1.000000</td>\n",
       "      <td>1.000000</td>\n",
       "      <td>1.000000</td>\n",
       "      <td>1.000000</td>\n",
       "      <td>1.000000</td>\n",
       "    </tr>\n",
       "    <tr>\n",
       "      <th>max</th>\n",
       "      <td>4.104804e+00</td>\n",
       "      <td>4.673366e+00</td>\n",
       "      <td>2.160045e+00</td>\n",
       "      <td>7.846162e+00</td>\n",
       "      <td>1.327614e+01</td>\n",
       "      <td>1.054175e+01</td>\n",
       "      <td>1.898449e+01</td>\n",
       "      <td>3.000000</td>\n",
       "      <td>14.000000</td>\n",
       "      <td>3.000000</td>\n",
       "      <td>1.000000</td>\n",
       "      <td>1.000000</td>\n",
       "      <td>1.000000</td>\n",
       "      <td>1.000000</td>\n",
       "      <td>1.000000</td>\n",
       "    </tr>\n",
       "  </tbody>\n",
       "</table>\n",
       "</div>"
      ],
      "text/plain": [
       "                 A2            A3            A6            A7           A10  \\\n",
       "count  6.890000e+02  6.890000e+02  6.890000e+02  6.890000e+02  6.890000e+02   \n",
       "mean   6.601074e-15  4.730936e-16  1.200459e-17  5.894334e-16  3.910757e-16   \n",
       "std    1.000000e+00  1.000000e+00  1.000000e+00  1.000000e+00  1.000000e+00   \n",
       "min   -1.504001e+00 -9.545313e-01 -1.852819e+00 -6.642066e-01 -4.939735e-01   \n",
       "25%   -7.516619e-01 -7.535350e-01 -3.479952e-01 -6.149361e-01 -4.939735e-01   \n",
       "50%   -2.456044e-01 -4.017914e-01 -3.479952e-01 -3.655972e-01 -4.939735e-01   \n",
       "75%    5.202294e-01  4.685228e-01  1.536129e-01  1.196431e-01  1.225985e-01   \n",
       "max    4.104804e+00  4.673366e+00  2.160045e+00  7.846162e+00  1.327614e+01   \n",
       "\n",
       "                A13           A14          A4          A5         A12  \\\n",
       "count  6.890000e+02  6.890000e+02  689.000000  689.000000  689.000000   \n",
       "mean   3.931704e-17 -7.239009e-17    1.766328    7.377358    1.928882   \n",
       "std    1.000000e+00  1.000000e+00    0.430283    3.683694    0.299018   \n",
       "min   -1.068979e+00 -1.950759e-01    1.000000    1.000000    1.000000   \n",
       "25%   -6.045498e-01 -1.950759e-01    2.000000    4.000000    2.000000   \n",
       "50%   -1.401207e-01 -1.941170e-01    2.000000    8.000000    2.000000   \n",
       "75%    5.100799e-01 -1.195085e-01    2.000000   10.000000    2.000000   \n",
       "max    1.054175e+01  1.898449e+01    3.000000   14.000000    3.000000   \n",
       "\n",
       "               A1          A8          A9         A11       class  \n",
       "count  689.000000  689.000000  689.000000  689.000000  689.000000  \n",
       "mean     0.677794    0.523948    0.428157    0.457184    0.445573  \n",
       "std      0.467661    0.499789    0.495171    0.498525    0.497390  \n",
       "min      0.000000    0.000000    0.000000    0.000000    0.000000  \n",
       "25%      0.000000    0.000000    0.000000    0.000000    0.000000  \n",
       "50%      1.000000    1.000000    0.000000    0.000000    0.000000  \n",
       "75%      1.000000    1.000000    1.000000    1.000000    1.000000  \n",
       "max      1.000000    1.000000    1.000000    1.000000    1.000000  "
      ]
     },
     "execution_count": 34,
     "metadata": {},
     "output_type": "execute_result"
    }
   ],
   "source": [
    "data.describe()"
   ]
  },
  {
   "cell_type": "markdown",
   "metadata": {},
   "source": [
    "## X и y"
   ]
  },
  {
   "cell_type": "code",
   "execution_count": 35,
   "metadata": {
    "collapsed": true
   },
   "outputs": [],
   "source": [
    "X = data.drop(('class'), axis = 1) # выбрасываем столбец 'class'\n",
    "y = data['class']\n",
    "feature_names = X.columns"
   ]
  },
  {
   "cell_type": "code",
   "execution_count": 36,
   "metadata": {},
   "outputs": [
    {
     "data": {
      "text/plain": [
       "pandas.core.indexes.base.Index"
      ]
     },
     "execution_count": 36,
     "metadata": {},
     "output_type": "execute_result"
    }
   ],
   "source": [
    "type(feature_names)"
   ]
  },
  {
   "cell_type": "code",
   "execution_count": 37,
   "metadata": {},
   "outputs": [
    {
     "data": {
      "text/plain": [
       "Index(['A2', 'A3', 'A6', 'A7', 'A10', 'A13', 'A14', 'A4', 'A5', 'A12', 'A1',\n",
       "       'A8', 'A9', 'A11'],\n",
       "      dtype='object')"
      ]
     },
     "execution_count": 37,
     "metadata": {},
     "output_type": "execute_result"
    }
   ],
   "source": [
    "feature_names"
   ]
  },
  {
   "cell_type": "code",
   "execution_count": 38,
   "metadata": {},
   "outputs": [
    {
     "name": "stdout",
     "output_type": "stream",
     "text": [
      "(689, 14)\n",
      "(689,)\n"
     ]
    }
   ],
   "source": [
    "print(X.shape)\n",
    "print(y.shape)\n",
    "N, d = X.shape"
   ]
  },
  {
   "cell_type": "code",
   "execution_count": 39,
   "metadata": {},
   "outputs": [
    {
     "data": {
      "text/plain": [
       "pandas.core.frame.DataFrame"
      ]
     },
     "execution_count": 39,
     "metadata": {},
     "output_type": "execute_result"
    }
   ],
   "source": [
    "type(X)"
   ]
  },
  {
   "cell_type": "code",
   "execution_count": 40,
   "metadata": {},
   "outputs": [
    {
     "data": {
      "text/plain": [
       "pandas.core.series.Series"
      ]
     },
     "execution_count": 40,
     "metadata": {},
     "output_type": "execute_result"
    }
   ],
   "source": [
    "type(y)"
   ]
  },
  {
   "cell_type": "code",
   "execution_count": 41,
   "metadata": {},
   "outputs": [
    {
     "name": "stdout",
     "output_type": "stream",
     "text": [
      "482 207\n"
     ]
    }
   ],
   "source": [
    "from sklearn.model_selection import train_test_split\n",
    "X_train, X_test, y_train, y_test = train_test_split(X, y, test_size = 0.3, random_state = 42)\n",
    "\n",
    "N_train, _ = X_train.shape \n",
    "N_test,  _ = X_test.shape \n",
    "\n",
    "print(N_train, N_test)"
   ]
  },
  {
   "cell_type": "code",
   "execution_count": 42,
   "metadata": {},
   "outputs": [
    {
     "data": {
      "text/plain": [
       "689"
      ]
     },
     "execution_count": 42,
     "metadata": {},
     "output_type": "execute_result"
    }
   ],
   "source": [
    "N_train+N_test"
   ]
  },
  {
   "cell_type": "markdown",
   "metadata": {},
   "source": [
    "# $k$NN"
   ]
  },
  {
   "cell_type": "markdown",
   "metadata": {},
   "source": [
    "Объявляем классификатор с параметром k = 10. Проводим обучение модели на обучающей выборке X_train, y_train:"
   ]
  },
  {
   "cell_type": "code",
   "execution_count": 43,
   "metadata": {},
   "outputs": [
    {
     "data": {
      "text/plain": [
       "KNeighborsClassifier(algorithm='auto', leaf_size=30, metric='minkowski',\n",
       "           metric_params=None, n_jobs=1, n_neighbors=10, p=2,\n",
       "           weights='uniform')"
      ]
     },
     "execution_count": 43,
     "metadata": {},
     "output_type": "execute_result"
    }
   ],
   "source": [
    "from sklearn.neighbors import KNeighborsClassifier\n",
    "\n",
    "knn = KNeighborsClassifier(n_neighbors = 10)\n",
    "#knn.set_params(n_neighbors=10)\n",
    "knn.fit(X_train, y_train)"
   ]
  },
  {
   "cell_type": "code",
   "execution_count": 44,
   "metadata": {},
   "outputs": [
    {
     "data": {
      "text/plain": [
       "KNeighborsClassifier(algorithm='auto', leaf_size=30, metric='minkowski',\n",
       "           metric_params=None, n_jobs=1, n_neighbors=10, p=2,\n",
       "           weights='uniform')"
      ]
     },
     "execution_count": 44,
     "metadata": {},
     "output_type": "execute_result"
    }
   ],
   "source": [
    "knn"
   ]
  },
  {
   "cell_type": "markdown",
   "metadata": {},
   "source": [
    "*Применяем метод. Считаем средние ошибки:*"
   ]
  },
  {
   "cell_type": "code",
   "execution_count": 45,
   "metadata": {},
   "outputs": [
    {
     "name": "stdout",
     "output_type": "stream",
     "text": [
      "0.163900414938 0.188405797101\n"
     ]
    }
   ],
   "source": [
    "y_train_predict = knn.predict(X_train)\n",
    "y_test_predict = knn.predict(X_test)\n",
    "\n",
    "err_train = np.mean(y_train != y_train_predict)\n",
    "err_test  = np.mean(y_test  != y_test_predict)\n",
    "\n",
    "print(err_train, err_test)"
   ]
  },
  {
   "cell_type": "markdown",
   "metadata": {},
   "source": [
    "Другой способ подсчета ошибки на тестовой выборке:"
   ]
  },
  {
   "cell_type": "code",
   "execution_count": 46,
   "metadata": {},
   "outputs": [
    {
     "name": "stdout",
     "output_type": "stream",
     "text": [
      "0.188405797101\n"
     ]
    }
   ],
   "source": [
    "err_test = 1 - knn.score(X_test, y_test)\n",
    "print(err_test)"
   ]
  },
  {
   "cell_type": "markdown",
   "metadata": {},
   "source": [
    "*С помощью метода confusion_matrix построим матрицу, которая позволит оценить прогнозы классификатора. Элемент матрицы (i, j) равен числу объектов, которые, принадлежат группе i, но, по прогнозам, находятся в группе j.*"
   ]
  },
  {
   "cell_type": "code",
   "execution_count": 47,
   "metadata": {},
   "outputs": [
    {
     "name": "stdout",
     "output_type": "stream",
     "text": [
      "[[111  13]\n",
      " [ 26  57]]\n"
     ]
    }
   ],
   "source": [
    "from sklearn.metrics import confusion_matrix\n",
    "\n",
    "print(confusion_matrix(y_test, y_test_predict))"
   ]
  },
  {
   "cell_type": "markdown",
   "metadata": {},
   "source": [
    "## Подбор параметров"
   ]
  },
  {
   "cell_type": "code",
   "execution_count": 48,
   "metadata": {},
   "outputs": [
    {
     "name": "stdout",
     "output_type": "stream",
     "text": [
      "0.195020746888 15\n"
     ]
    }
   ],
   "source": [
    "from sklearn.model_selection import GridSearchCV\n",
    "nnb = [1, 3, 5, 10, 15, 20, 25, 35, 45, 55]\n",
    "knn = KNeighborsClassifier()\n",
    "grid = GridSearchCV(knn, param_grid = {'n_neighbors': nnb}, cv=10)\n",
    "grid.fit(X_train, y_train)\n",
    "\n",
    "best_cv_err = 1 - grid.best_score_\n",
    "best_n_neighbors = grid.best_estimator_.n_neighbors\n",
    "print(best_cv_err, best_n_neighbors)"
   ]
  },
  {
   "cell_type": "markdown",
   "metadata": {},
   "source": [
    "*Применим алгоритм еще раз с новым параметром k:*"
   ]
  },
  {
   "cell_type": "code",
   "execution_count": 49,
   "metadata": {},
   "outputs": [
    {
     "name": "stdout",
     "output_type": "stream",
     "text": [
      "0.174273858921 0.149758454106\n"
     ]
    }
   ],
   "source": [
    "knn = KNeighborsClassifier(n_neighbors = best_n_neighbors).fit(X_train, y_train)\n",
    "\n",
    "err_train = np.mean(y_train != knn.predict(X_train))\n",
    "err_test  = np.mean(y_test  != knn.predict(X_test))\n",
    "\n",
    "print(err_train, err_test)"
   ]
  },
  {
   "cell_type": "markdown",
   "metadata": {},
   "source": [
    "*Ошибку удалось уменьшить, но ненамного. Возможно, это из-за того, что используемая выборка достаточно маленькая по размеру и алгоритм не успевает хорошо обучиться.*"
   ]
  },
  {
   "cell_type": "markdown",
   "metadata": {},
   "source": [
    "# Нейронные сети\n",
    "\n",
    "*Обучить на ваших данных полносвязную (неглубокую) нейронную сеть. Попробуйте 1-2 скрытых слоя. Постройте графики зависимости ошибки на обучающей выборке и тестовой выборках от параметра alpha и от количества нейронов. Наблюдается ли переобучение/недообучение? *"
   ]
  },
  {
   "cell_type": "markdown",
   "metadata": {
    "collapsed": true
   },
   "source": [
    "*Будем предсказывать класс*"
   ]
  },
  {
   "cell_type": "code",
   "execution_count": 50,
   "metadata": {},
   "outputs": [
    {
     "name": "stdout",
     "output_type": "stream",
     "text": [
      "(689, 14)\n",
      "(689,)\n"
     ]
    }
   ],
   "source": [
    "X = data.drop(('class'), axis = 1)\n",
    "y = data['class']\n",
    "print(X.shape)\n",
    "print(y.shape)"
   ]
  },
  {
   "cell_type": "code",
   "execution_count": 51,
   "metadata": {
    "collapsed": true
   },
   "outputs": [],
   "source": [
    "from sklearn.model_selection import train_test_split\n",
    "X_train, X_test, y_train, y_test = train_test_split(X, y, test_size = 0.25, random_state = 42)\n",
    "N_test, _ = X_test.shape"
   ]
  },
  {
   "cell_type": "code",
   "execution_count": 52,
   "metadata": {
    "collapsed": true
   },
   "outputs": [],
   "source": [
    "from sklearn.neural_network import MLPClassifier"
   ]
  },
  {
   "cell_type": "markdown",
   "metadata": {},
   "source": [
    "*Попробуем сравнить нейронные сети (НС) с 1 и 2 слоями.*  \n",
    "*Рассмотрим НС с 1 скрытым слоем:*"
   ]
  },
  {
   "cell_type": "code",
   "execution_count": 53,
   "metadata": {},
   "outputs": [
    {
     "data": {
      "text/plain": [
       "MLPClassifier(activation='logistic', alpha=0.0001, batch_size='auto',\n",
       "       beta_1=0.9, beta_2=0.999, early_stopping=False, epsilon=1e-08,\n",
       "       hidden_layer_sizes=10, learning_rate='constant',\n",
       "       learning_rate_init=0.001, max_iter=200, momentum=0.9,\n",
       "       nesterovs_momentum=True, power_t=0.5, random_state=42, shuffle=True,\n",
       "       solver='lbfgs', tol=0.0001, validation_fraction=0.1, verbose=False,\n",
       "       warm_start=False)"
      ]
     },
     "execution_count": 53,
     "metadata": {},
     "output_type": "execute_result"
    }
   ],
   "source": [
    "mlp_model = MLPClassifier(hidden_layer_sizes = (10), solver = 'lbfgs', \n",
    "                          activation = 'logistic', random_state = 42)\n",
    "mlp_model.fit(X_train, y_train)"
   ]
  },
  {
   "cell_type": "code",
   "execution_count": 54,
   "metadata": {
    "collapsed": true
   },
   "outputs": [],
   "source": [
    "y_train_pred = mlp_model.predict(X_train)\n",
    "y_test_pred = mlp_model.predict(X_test)"
   ]
  },
  {
   "cell_type": "markdown",
   "metadata": {},
   "source": [
    "*Посмотрим на ошибку на обучающей и тестовой выборках*"
   ]
  },
  {
   "cell_type": "code",
   "execution_count": 55,
   "metadata": {},
   "outputs": [
    {
     "name": "stdout",
     "output_type": "stream",
     "text": [
      "0.100775193798 0.127167630058\n"
     ]
    }
   ],
   "source": [
    "print(np.mean(y_train != y_train_pred), np.mean(y_test != y_test_pred))"
   ]
  },
  {
   "cell_type": "markdown",
   "metadata": {},
   "source": [
    "*Рассмотрим НС с 2 скрытыми слоями по 10 нейронов в каждом:*"
   ]
  },
  {
   "cell_type": "code",
   "execution_count": 56,
   "metadata": {},
   "outputs": [
    {
     "data": {
      "text/plain": [
       "MLPClassifier(activation='logistic', alpha=0.0001, batch_size='auto',\n",
       "       beta_1=0.9, beta_2=0.999, early_stopping=False, epsilon=1e-08,\n",
       "       hidden_layer_sizes=(10, 10), learning_rate='constant',\n",
       "       learning_rate_init=0.001, max_iter=200, momentum=0.9,\n",
       "       nesterovs_momentum=True, power_t=0.5, random_state=42, shuffle=True,\n",
       "       solver='lbfgs', tol=0.0001, validation_fraction=0.1, verbose=False,\n",
       "       warm_start=False)"
      ]
     },
     "execution_count": 56,
     "metadata": {},
     "output_type": "execute_result"
    }
   ],
   "source": [
    "mlp_model1 = MLPClassifier(hidden_layer_sizes = (10, 10), solver = 'lbfgs', \n",
    "                          activation = 'logistic', random_state = 42)\n",
    "mlp_model1.fit(X_train, y_train)"
   ]
  },
  {
   "cell_type": "code",
   "execution_count": 57,
   "metadata": {
    "collapsed": true
   },
   "outputs": [],
   "source": [
    "y_train_pred = mlp_model1.predict(X_train)\n",
    "y_test_pred = mlp_model1.predict(X_test)"
   ]
  },
  {
   "cell_type": "code",
   "execution_count": 58,
   "metadata": {},
   "outputs": [
    {
     "name": "stdout",
     "output_type": "stream",
     "text": [
      "0.104651162791 0.104046242775\n"
     ]
    }
   ],
   "source": [
    "print(np.mean(y_train != y_train_pred), np.mean(y_test != y_test_pred))"
   ]
  },
  {
   "cell_type": "markdown",
   "metadata": {},
   "source": [
    "*Очевидно, будем использовать НС с двумя скрытыми слоями, так как в этом случае получаем ошибку меньше.*"
   ]
  },
  {
   "cell_type": "markdown",
   "metadata": {},
   "source": [
    "### Подбор параметра alpha и числа нейронов  \n",
    "*Подберем оптимальное значение параметра регуляризации alpha*"
   ]
  },
  {
   "cell_type": "code",
   "execution_count": 59,
   "metadata": {
    "collapsed": true
   },
   "outputs": [],
   "source": [
    "alpha_arr = np.logspace(-3, 2, 20)\n",
    "test_err = []\n",
    "train_err = []\n",
    "for alpha_1 in alpha_arr:\n",
    "    mlp_model = MLPClassifier(alpha = alpha_1, hidden_layer_sizes = (10,10), \n",
    "                              solver = 'lbfgs', activation = 'logistic', random_state = 42)\n",
    "    mlp_model.fit(X_train, y_train)\n",
    "\n",
    "    y_train_pred = mlp_model.predict(X_train)\n",
    "    y_test_pred = mlp_model.predict(X_test)\n",
    "    train_err.append(np.mean(y_train != y_train_pred))\n",
    "    test_err.append(np.mean(y_test != y_test_pred))"
   ]
  },
  {
   "cell_type": "code",
   "execution_count": 60,
   "metadata": {},
   "outputs": [
    {
     "data": {
      "image/png": "[encoded data removed]",
      "text/plain": [
       "<matplotlib.figure.Figure at 0x24c6a716518>"
      ]
     },
     "metadata": {},
     "output_type": "display_data"
    }
   ],
   "source": [
    "plt.semilogx(alpha_arr, train_err, 'b-o', label = 'test')\n",
    "plt.semilogx(alpha_arr, test_err, 'r-o', label = 'train')\n",
    "plt.xlim([np.min(alpha_arr), np.max(alpha_arr)])\n",
    "plt.title('Error vs. alpha')\n",
    "plt.xlabel('alpha')\n",
    "plt.ylabel('error')\n",
    "plt.legend()\n",
    "pass"
   ]
  },
  {
   "cell_type": "code",
   "execution_count": 61,
   "metadata": {},
   "outputs": [
    {
     "name": "stdout",
     "output_type": "stream",
     "text": [
      "[  1.00000000e-03   1.83298071e-03   3.35981829e-03   6.15848211e-03\n",
      "   1.12883789e-02   2.06913808e-02   3.79269019e-02   6.95192796e-02\n",
      "   1.27427499e-01   2.33572147e-01   4.28133240e-01   7.84759970e-01\n",
      "   1.43844989e+00   2.63665090e+00   4.83293024e+00   8.85866790e+00\n",
      "   1.62377674e+01   2.97635144e+01   5.45559478e+01   1.00000000e+02]\n"
     ]
    }
   ],
   "source": [
    "print(alpha_arr)"
   ]
  },
  {
   "cell_type": "markdown",
   "metadata": {},
   "source": [
    "*При значениях alpha от 0.78 до 4.83 можем наблюдать переобучение.* \n",
    "  \n",
    "*Минимальное значение ошибки на обучающей и тестовой выборках:*"
   ]
  },
  {
   "cell_type": "code",
   "execution_count": 62,
   "metadata": {},
   "outputs": [
    {
     "name": "stdout",
     "output_type": "stream",
     "text": [
      "0.0542635658915 0.0809248554913\n"
     ]
    }
   ],
   "source": [
    "min_train_err = np.min(train_err)\n",
    "min_test_err = np.min(test_err)\n",
    "print(min_train_err, min_test_err)"
   ]
  },
  {
   "cell_type": "markdown",
   "metadata": {},
   "source": [
    "*Оптимальное значение alpha:*"
   ]
  },
  {
   "cell_type": "code",
   "execution_count": 63,
   "metadata": {},
   "outputs": [
    {
     "name": "stdout",
     "output_type": "stream",
     "text": [
      "0.784759970351\n"
     ]
    }
   ],
   "source": [
    "alpha_opt = alpha_arr[test_err == min_test_err]\n",
    "alpha_opt = alpha_opt[0]\n",
    "print(alpha_opt)"
   ]
  },
  {
   "cell_type": "markdown",
   "metadata": {},
   "source": [
    "### Найдем оптимальное количество нейронов\n",
    "*Используем в качестве alpha значение значение по умолчанию (0.0001). Количество скрытых слоев = 2.*"
   ]
  },
  {
   "cell_type": "code",
   "execution_count": 64,
   "metadata": {
    "collapsed": true
   },
   "outputs": [],
   "source": [
    "neurons_arr = np.arange(2, 20, 2)\n",
    "test_err = []\n",
    "train_err = []\n",
    "for neurons in neurons_arr:\n",
    "    mlp_model = MLPClassifier(hidden_layer_sizes = (neurons, neurons), \n",
    "                              solver = 'lbfgs', activation = 'logistic', random_state = 42)\n",
    "    mlp_model.fit(X_train, y_train)\n",
    "\n",
    "    y_train_pred = mlp_model.predict(X_train)\n",
    "    y_test_pred = mlp_model.predict(X_test)\n",
    "    train_err.append(np.mean(y_train != y_train_pred))\n",
    "    test_err.append(np.mean(y_test != y_test_pred))"
   ]
  },
  {
   "cell_type": "code",
   "execution_count": 65,
   "metadata": {},
   "outputs": [
    {
     "data": {
      "image/png": "[encoded data removed]",
      "text/plain": [
       "<matplotlib.figure.Figure at 0x24c6ca5bba8>"
      ]
     },
     "metadata": {},
     "output_type": "display_data"
    }
   ],
   "source": [
    "plt.plot(neurons_arr, train_err, 'b-o', label = 'train')\n",
    "plt.plot(neurons_arr, test_err, 'r-o', label = 'test')\n",
    "plt.xlim([np.max(neurons_arr), np.min(neurons_arr)])\n",
    "plt.title('Error vs. neurons count')\n",
    "plt.xlabel('neurons count')\n",
    "plt.ylabel('error')\n",
    "plt.legend()\n",
    "pass"
   ]
  },
  {
   "cell_type": "markdown",
   "metadata": {},
   "source": [
    "*Минимальное значение ошибки:*"
   ]
  },
  {
   "cell_type": "code",
   "execution_count": 66,
   "metadata": {},
   "outputs": [
    {
     "name": "stdout",
     "output_type": "stream",
     "text": [
      "0.0329457364341 0.0809248554913\n"
     ]
    }
   ],
   "source": [
    "min_train_err = np.min(train_err)\n",
    "min_test_err = np.min(test_err)\n",
    "print(min_train_err, min_test_err)"
   ]
  },
  {
   "cell_type": "markdown",
   "metadata": {},
   "source": [
    "*при которой оптимальное число нейронов:*"
   ]
  },
  {
   "cell_type": "code",
   "execution_count": 67,
   "metadata": {},
   "outputs": [
    {
     "name": "stdout",
     "output_type": "stream",
     "text": [
      "[6]\n"
     ]
    }
   ],
   "source": [
    "neurons_opt = neurons_arr[test_err == min_test_err]\n",
    "print(neurons_opt)\n",
    "neurons_opt = neurons_opt[0]"
   ]
  },
  {
   "cell_type": "markdown",
   "metadata": {},
   "source": [
    "# Домашнее задание №5"
   ]
  },
  {
   "cell_type": "markdown",
   "metadata": {},
   "source": [
    "### Random Forest  \n",
    "*Проведем классификацию по классам с помощью случайного леса.*\n",
    "\n",
    "*Разобъем данные на тестовую и обучающую выборки.*"
   ]
  },
  {
   "cell_type": "code",
   "execution_count": 68,
   "metadata": {
    "collapsed": true
   },
   "outputs": [],
   "source": [
    "X_train, X_test, y_train, y_test = train_test_split(X, y, test_size = 0.33, random_state = 7)"
   ]
  },
  {
   "cell_type": "markdown",
   "metadata": {},
   "source": [
    "*Обучаем классификатор вида случайного леса. Число деревьев = 10*"
   ]
  },
  {
   "cell_type": "code",
   "execution_count": 69,
   "metadata": {},
   "outputs": [
    {
     "data": {
      "text/plain": [
       "RandomForestClassifier(bootstrap=True, class_weight=None, criterion='gini',\n",
       "            max_depth=None, max_features='auto', max_leaf_nodes=None,\n",
       "            min_impurity_decrease=0.0, min_impurity_split=None,\n",
       "            min_samples_leaf=1, min_samples_split=2,\n",
       "            min_weight_fraction_leaf=0.0, n_estimators=10, n_jobs=1,\n",
       "            oob_score=False, random_state=None, verbose=0,\n",
       "            warm_start=False)"
      ]
     },
     "execution_count": 69,
     "metadata": {},
     "output_type": "execute_result"
    }
   ],
   "source": [
    "from sklearn import ensemble\n",
    "rf = ensemble.RandomForestClassifier(n_estimators = 10)\n",
    "rf.fit(X_train, y_train)"
   ]
  },
  {
   "cell_type": "markdown",
   "metadata": {},
   "source": [
    "*Посмотрим величину ошибки на тестовой и обучающей выборках:*"
   ]
  },
  {
   "cell_type": "code",
   "execution_count": 70,
   "metadata": {},
   "outputs": [
    {
     "name": "stdout",
     "output_type": "stream",
     "text": [
      "0.0151843817787 0.131578947368\n"
     ]
    }
   ],
   "source": [
    "err_train = np.mean(y_train != rf.predict(X_train))\n",
    "err_test  = np.mean(y_test  != rf.predict(X_test))\n",
    "\n",
    "print(err_train, err_test)"
   ]
  },
  {
   "cell_type": "markdown",
   "metadata": {},
   "source": [
    "*Наблюдаем переобучение, т.к. ошибка на тестовой выборке оказалась выше, чем на обучающей, и составила ~0.13*\n",
    "\n",
    "*Построим график зависимости ошибки на тестовой и обучающей выборках, а также oob-ошибки от количества деревьев*"
   ]
  },
  {
   "cell_type": "code",
   "execution_count": 71,
   "metadata": {
    "collapsed": true
   },
   "outputs": [],
   "source": [
    "trees_arr = np.arange(15, 100, 5)\n",
    "test_err = []\n",
    "train_err = []\n",
    "oob_err = []\n",
    "for trees in trees_arr:\n",
    "    rf = ensemble.RandomForestClassifier(n_estimators = trees, oob_score=True)\n",
    "    rf.fit(X_train, y_train)\n",
    "    train_err.append(np.mean(y_train != rf.predict(X_train)))\n",
    "    test_err.append(np.mean(y_test  != rf.predict(X_test)))\n",
    "    oob_err.append(1 - rf.oob_score_)"
   ]
  },
  {
   "cell_type": "code",
   "execution_count": 72,
   "metadata": {},
   "outputs": [
    {
     "data": {
      "image/png": "[encoded data removed]",
      "text/plain": [
       "<matplotlib.figure.Figure at 0x24c68972f60>"
      ]
     },
     "metadata": {},
     "output_type": "display_data"
    }
   ],
   "source": [
    "plt.plot(trees_arr, train_err, 'b-o', label = 'train')\n",
    "plt.plot(trees_arr, test_err, 'r-o', label = 'test')\n",
    "plt.plot(trees_arr, oob_err, 'g-o', label = 'oob')\n",
    "plt.xlim([np.max(trees_arr), np.min(trees_arr)])\n",
    "plt.title('Error vs. number of trees')\n",
    "plt.xlabel('trees')\n",
    "plt.ylabel('error')\n",
    "plt.legend()\n",
    "pass"
   ]
  },
  {
   "cell_type": "markdown",
   "metadata": {},
   "source": [
    "*Наблюдаем переобучение. Для уменьшения oob-ошибки количество деревьев не должно быть малым.*  \n",
    "*Минимум oob-ошибки наблюдается при количестве деревьев, равном:*"
   ]
  },
  {
   "cell_type": "code",
   "execution_count": 73,
   "metadata": {},
   "outputs": [
    {
     "name": "stdout",
     "output_type": "stream",
     "text": [
      "[55]\n"
     ]
    }
   ],
   "source": [
    "min_oob_err = np.min(oob_err)\n",
    "trees_opt = trees_arr[oob_err == min_oob_err]\n",
    "print(trees_opt)"
   ]
  },
  {
   "cell_type": "markdown",
   "metadata": {},
   "source": [
    "*Минимальное значение ошибки на тестовой и обучающей выборках:*"
   ]
  },
  {
   "cell_type": "code",
   "execution_count": 74,
   "metadata": {},
   "outputs": [
    {
     "name": "stdout",
     "output_type": "stream",
     "text": [
      "0.0 0.114035087719\n"
     ]
    }
   ],
   "source": [
    "min_train_err = np.min(train_err)\n",
    "min_test_err = np.min(test_err)\n",
    "print(min_train_err, min_test_err)"
   ]
  },
  {
   "cell_type": "markdown",
   "metadata": {},
   "source": [
    "*при котором оптимальное количество деревьев:*"
   ]
  },
  {
   "cell_type": "code",
   "execution_count": 75,
   "metadata": {},
   "outputs": [
    {
     "name": "stdout",
     "output_type": "stream",
     "text": [
      "30\n"
     ]
    }
   ],
   "source": [
    "trees_opt = trees_arr[test_err == min_test_err]\n",
    "trees_opt = trees_opt[0]\n",
    "print(trees_opt)"
   ]
  },
  {
   "cell_type": "markdown",
   "metadata": {},
   "source": [
    "### Extremely Randomized Trees  \n",
    "*Проведем классификацию по классам с помощью Extremely Randomized Trees классификатора.*\n",
    "\n",
    "*Разобъем данные на тестовую и обучающую выборки*"
   ]
  },
  {
   "cell_type": "code",
   "execution_count": 105,
   "metadata": {
    "collapsed": true
   },
   "outputs": [],
   "source": [
    "X_train, X_test, y_train, y_test = train_test_split(X, y, test_size = 0.33, random_state = 7)"
   ]
  },
  {
   "cell_type": "markdown",
   "metadata": {},
   "source": [
    "*Обучаем классификатор вида Extremely Randomized Trees. Число деревьев = 100*"
   ]
  },
  {
   "cell_type": "code",
   "execution_count": 106,
   "metadata": {},
   "outputs": [
    {
     "data": {
      "text/plain": [
       "ExtraTreesClassifier(bootstrap=False, class_weight=None, criterion='gini',\n",
       "           max_depth=None, max_features='auto', max_leaf_nodes=None,\n",
       "           min_impurity_decrease=0.0, min_impurity_split=None,\n",
       "           min_samples_leaf=1, min_samples_split=2,\n",
       "           min_weight_fraction_leaf=0.0, n_estimators=100, n_jobs=1,\n",
       "           oob_score=False, random_state=None, verbose=0, warm_start=False)"
      ]
     },
     "execution_count": 106,
     "metadata": {},
     "output_type": "execute_result"
    }
   ],
   "source": [
    "ert = ensemble.ExtraTreesClassifier(n_estimators = 100)\n",
    "ert.fit(X_train, y_train)"
   ]
  },
  {
   "cell_type": "markdown",
   "metadata": {},
   "source": [
    "*Посмотрим величину ошибки на тестовой и обучающей выборках:*"
   ]
  },
  {
   "cell_type": "code",
   "execution_count": 107,
   "metadata": {},
   "outputs": [
    {
     "name": "stdout",
     "output_type": "stream",
     "text": [
      "0.0 0.127192982456\n"
     ]
    }
   ],
   "source": [
    "err_train = np.mean(y_train != ert.predict(X_train))\n",
    "err_test  = np.mean(y_test  != ert.predict(X_test))\n",
    "\n",
    "print(err_train, err_test)"
   ]
  },
  {
   "cell_type": "markdown",
   "metadata": {},
   "source": [
    "*Наблюдаем переобучение, т.к. ошибка на тестовой выборке оказалась выше, чем на обучающей, и составила ~0.13*\n",
    "\n",
    "*Построим график зависимости ошибки на тестовой и обучающей выборках, а также oob-ошибки от количества деревьев. Указываем bootstrap=True для генерации случайной bootstrap-выборки из обучащей*"
   ]
  },
  {
   "cell_type": "code",
   "execution_count": 110,
   "metadata": {},
   "outputs": [],
   "source": [
    "trees_arr = np.arange(15, 100, 5)\n",
    "test_err = []\n",
    "train_err = []\n",
    "oob_err = []\n",
    "for trees in trees_arr:\n",
    "    ert = ensemble.ExtraTreesClassifier(n_estimators = trees, oob_score=True, bootstrap=True)\n",
    "    ert.fit(X_train, y_train)\n",
    "    train_err.append(np.mean(y_train != ert.predict(X_train)))\n",
    "    test_err.append(np.mean(y_test  != ert.predict(X_test)))\n",
    "    oob_err.append(1 - ert.oob_score_)"
   ]
  },
  {
   "cell_type": "code",
   "execution_count": 111,
   "metadata": {},
   "outputs": [
    {
     "data": {
      "image/png": "[encoded data removed]",
      "text/plain": [
       "<matplotlib.figure.Figure at 0x24c65d59a58>"
      ]
     },
     "metadata": {},
     "output_type": "display_data"
    }
   ],
   "source": [
    "plt.plot(trees_arr, train_err, 'b-o', label = 'train')\n",
    "plt.plot(trees_arr, test_err, 'r-o', label = 'test')\n",
    "plt.plot(trees_arr, oob_err, 'g-o', label = 'oob')\n",
    "plt.xlim([np.max(trees_arr), np.min(trees_arr)])\n",
    "plt.title('Error vs. number of trees')\n",
    "plt.xlabel('trees')\n",
    "plt.ylabel('error')\n",
    "plt.legend()\n",
    "pass"
   ]
  },
  {
   "cell_type": "markdown",
   "metadata": {},
   "source": [
    "*Наблюдаем переобучение. Как и для Random Forest видим, что малое количество деревьев негативно влияет на величину oob-ошибки.*  \n",
    "*Минимум oob-ошибки наблюдается при количестве деревьев:*"
   ]
  },
  {
   "cell_type": "code",
   "execution_count": 112,
   "metadata": {},
   "outputs": [
    {
     "name": "stdout",
     "output_type": "stream",
     "text": [
      "[55]\n"
     ]
    }
   ],
   "source": [
    "min_oob_err = np.min(oob_err)\n",
    "trees_opt = trees_arr[oob_err == min_oob_err]\n",
    "print(trees_opt)"
   ]
  },
  {
   "cell_type": "markdown",
   "metadata": {
    "collapsed": true
   },
   "source": [
    "*Минимальное значение ошибки на обучающей и тестовой выборках:*"
   ]
  },
  {
   "cell_type": "code",
   "execution_count": 113,
   "metadata": {},
   "outputs": [
    {
     "name": "stdout",
     "output_type": "stream",
     "text": [
      "0.0 0.109649122807\n"
     ]
    }
   ],
   "source": [
    "min_train_err = np.min(train_err)\n",
    "min_test_err = np.min(test_err)\n",
    "print(min_train_err, min_test_err)"
   ]
  },
  {
   "cell_type": "markdown",
   "metadata": {},
   "source": [
    "*при котором оптимальное количество деревьев:*"
   ]
  },
  {
   "cell_type": "code",
   "execution_count": 114,
   "metadata": {},
   "outputs": [
    {
     "name": "stdout",
     "output_type": "stream",
     "text": [
      "75\n"
     ]
    }
   ],
   "source": [
    "trees_opt = trees_arr[test_err == min_test_err]\n",
    "trees_opt = trees_opt[0]\n",
    "print(trees_opt)"
   ]
  },
  {
   "cell_type": "markdown",
   "metadata": {},
   "source": [
    "### AdaBoost\n",
    "*Проведем классификацию по классам по трем сортам с помощью AdaBoost классификатора.*\n",
    "\n",
    "*Разобъем данные на тестовую и обучающую выборки*"
   ]
  },
  {
   "cell_type": "code",
   "execution_count": 84,
   "metadata": {
    "collapsed": true
   },
   "outputs": [],
   "source": [
    "X_train, X_test, y_train, y_test = train_test_split(X, y, test_size = 0.5, random_state = 7)"
   ]
  },
  {
   "cell_type": "markdown",
   "metadata": {},
   "source": [
    "*Обучаем классификатор вида Ada Boost. Число классификаторов (по умолчанию DecisionTreeClassifier) = 100*"
   ]
  },
  {
   "cell_type": "code",
   "execution_count": 85,
   "metadata": {},
   "outputs": [
    {
     "data": {
      "text/plain": [
       "AdaBoostClassifier(algorithm='SAMME.R', base_estimator=None,\n",
       "          learning_rate=1.0, n_estimators=100, random_state=None)"
      ]
     },
     "execution_count": 85,
     "metadata": {},
     "output_type": "execute_result"
    }
   ],
   "source": [
    "ab = ensemble.AdaBoostClassifier(n_estimators = 100)\n",
    "ab.fit(X_train, y_train)"
   ]
  },
  {
   "cell_type": "markdown",
   "metadata": {},
   "source": [
    "*Посмотрим величину ошибки на тестовой и обучающей выборках:*"
   ]
  },
  {
   "cell_type": "code",
   "execution_count": 86,
   "metadata": {},
   "outputs": [
    {
     "name": "stdout",
     "output_type": "stream",
     "text": [
      "0.031976744186 0.179710144928\n"
     ]
    }
   ],
   "source": [
    "err_train = np.mean(y_train != ab.predict(X_train))\n",
    "err_test  = np.mean(y_test  != ab.predict(X_test))\n",
    "\n",
    "print(err_train, err_test)"
   ]
  },
  {
   "cell_type": "markdown",
   "metadata": {},
   "source": [
    "*Наблюдаем переобучение, т.к. ошибка на тестовой выборке оказалась выше, чем на обучающей, и составила ~0.17*\n",
    "\n",
    "*Построим график зависимости ошибки на тестовой и обучающей выборках. Параметр learningrate уменьшает вклад каждого классификатора.*"
   ]
  },
  {
   "cell_type": "code",
   "execution_count": 87,
   "metadata": {
    "collapsed": true
   },
   "outputs": [],
   "source": [
    "estim_arr = np.arange(5, 100, 5)\n",
    "test_err = []\n",
    "train_err = []\n",
    "for estim in estim_arr:\n",
    "    ab = ensemble.AdaBoostClassifier(n_estimators = estim, learning_rate = 0.5)\n",
    "    ab.fit(X_train, y_train)\n",
    "    train_err.append(np.mean(y_train != ab.predict(X_train)))\n",
    "    test_err.append(np.mean(y_test  != ab.predict(X_test)))"
   ]
  },
  {
   "cell_type": "code",
   "execution_count": 88,
   "metadata": {},
   "outputs": [
    {
     "data": {
      "image/png": "[encoded data removed]",
      "text/plain": [
       "<matplotlib.figure.Figure at 0x24c69c7b978>"
      ]
     },
     "metadata": {},
     "output_type": "display_data"
    }
   ],
   "source": [
    "plt.plot(estim_arr, train_err, 'b-o', label = 'train')\n",
    "plt.plot(estim_arr, test_err, 'r-o', label = 'test')\n",
    "plt.xlim([np.max(estim_arr), np.min(estim_arr)])\n",
    "plt.title('Error vs. number of estimators')\n",
    "plt.xlabel('trees')\n",
    "plt.ylabel('error')\n",
    "plt.legend()\n",
    "pass"
   ]
  },
  {
   "cell_type": "code",
   "execution_count": 89,
   "metadata": {},
   "outputs": [
    {
     "name": "stdout",
     "output_type": "stream",
     "text": [
      "[ 5 10 15 20 25 30 35 40 45 50 55 60 65 70 75 80 85 90 95]\n"
     ]
    }
   ],
   "source": [
    "print(estim_arr)"
   ]
  },
  {
   "cell_type": "markdown",
   "metadata": {},
   "source": [
    "*Наблюдаем достаточно низкую ошибку при количестве классификаторов <20. При большем количестве классификаторов имеется переобучение*\n",
    "\n",
    "*Минимальное значение ошибки:*"
   ]
  },
  {
   "cell_type": "code",
   "execution_count": 90,
   "metadata": {},
   "outputs": [
    {
     "name": "stdout",
     "output_type": "stream",
     "text": [
      "0.0668604651163 0.136231884058\n"
     ]
    }
   ],
   "source": [
    "min_train_err = np.min(train_err)\n",
    "min_test_err = np.min(test_err)\n",
    "print(min_train_err, min_test_err)"
   ]
  },
  {
   "cell_type": "markdown",
   "metadata": {},
   "source": [
    "*при котором оптимальное количество классификаторов:*"
   ]
  },
  {
   "cell_type": "code",
   "execution_count": 91,
   "metadata": {},
   "outputs": [
    {
     "name": "stdout",
     "output_type": "stream",
     "text": [
      "15\n"
     ]
    }
   ],
   "source": [
    "estim_opt = estim_arr[test_err == min_test_err]\n",
    "estim_opt = estim_opt[0]\n",
    "print(estim_opt)"
   ]
  },
  {
   "cell_type": "markdown",
   "metadata": {},
   "source": [
    "### GBT\n",
    "*Проведем классификацию зёрен пшеницы по трем сортам с помощью Gradient Boosted Trees классификатора.*\n",
    "\n",
    "*Разобъем данные на тестовую и обучающую выборки*"
   ]
  },
  {
   "cell_type": "code",
   "execution_count": 92,
   "metadata": {
    "collapsed": true
   },
   "outputs": [],
   "source": [
    "X_train, X_test, y_train, y_test = train_test_split(X, y, test_size = 0.5, random_state = 7)"
   ]
  },
  {
   "cell_type": "markdown",
   "metadata": {},
   "source": [
    "*Обучаем классификатор вида Gradient Boosted Trees. Число деревьев = 100*"
   ]
  },
  {
   "cell_type": "code",
   "execution_count": 93,
   "metadata": {},
   "outputs": [
    {
     "data": {
      "text/plain": [
       "GradientBoostingClassifier(criterion='friedman_mse', init=None,\n",
       "              learning_rate=0.1, loss='deviance', max_depth=3,\n",
       "              max_features=None, max_leaf_nodes=None,\n",
       "              min_impurity_decrease=0.0, min_impurity_split=None,\n",
       "              min_samples_leaf=1, min_samples_split=2,\n",
       "              min_weight_fraction_leaf=0.0, n_estimators=100,\n",
       "              presort='auto', random_state=None, subsample=1.0, verbose=0,\n",
       "              warm_start=False)"
      ]
     },
     "execution_count": 93,
     "metadata": {},
     "output_type": "execute_result"
    }
   ],
   "source": [
    "gbt = ensemble.GradientBoostingClassifier(n_estimators = 100)\n",
    "gbt.fit(X_train, y_train)"
   ]
  },
  {
   "cell_type": "markdown",
   "metadata": {},
   "source": [
    "*Посмотрим величину ошибки на тестовой и обучающей выборках:*"
   ]
  },
  {
   "cell_type": "code",
   "execution_count": 94,
   "metadata": {},
   "outputs": [
    {
     "name": "stdout",
     "output_type": "stream",
     "text": [
      "0.00581395348837 0.16231884058\n"
     ]
    }
   ],
   "source": [
    "err_train = np.mean(y_train != gbt.predict(X_train))\n",
    "err_test  = np.mean(y_test  != gbt.predict(X_test))\n",
    "\n",
    "print(err_train, err_test)"
   ]
  },
  {
   "cell_type": "markdown",
   "metadata": {},
   "source": [
    "*Наблюдаем переобучение, т.к. ошибка на тестовой выборке оказалась выше, чем на обучающей, и составила ~0.16*\n",
    "\n",
    "*Построим график зависимости ошибки на тестовой и обучающей выборках. Параметр learningrate уменьшает вклад каждого дерева, по умолчанию равен 0.1*"
   ]
  },
  {
   "cell_type": "code",
   "execution_count": 95,
   "metadata": {
    "collapsed": true
   },
   "outputs": [],
   "source": [
    "trees_arr = np.arange(2, 20, 2)\n",
    "test_err = []\n",
    "train_err = []\n",
    "for trees in trees_arr:\n",
    "    gbt = ensemble.GradientBoostingClassifier(n_estimators = trees)\n",
    "    gbt.fit(X_train, y_train)\n",
    "    train_err.append(np.mean(y_train != gbt.predict(X_train)))\n",
    "    test_err.append(np.mean(y_test  != gbt.predict(X_test)))"
   ]
  },
  {
   "cell_type": "code",
   "execution_count": 96,
   "metadata": {},
   "outputs": [
    {
     "data": {
      "image/png": "[encoded data removed]",
      "text/plain": [
       "<matplotlib.figure.Figure at 0x24c6c489b38>"
      ]
     },
     "metadata": {},
     "output_type": "display_data"
    }
   ],
   "source": [
    "plt.plot(trees_arr, train_err, 'b-o', label = 'train')\n",
    "plt.plot(trees_arr, test_err, 'r-o', label = 'test')\n",
    "plt.xlim([np.max(trees_arr), np.min(trees_arr)])\n",
    "plt.title('Error vs. number of trees')\n",
    "plt.xlabel('trees')\n",
    "plt.ylabel('error')\n",
    "plt.legend()\n",
    "pass"
   ]
  },
  {
   "cell_type": "code",
   "execution_count": 97,
   "metadata": {},
   "outputs": [
    {
     "name": "stdout",
     "output_type": "stream",
     "text": [
      "[ 2  4  6  8 10 12 14 16 18]\n"
     ]
    }
   ],
   "source": [
    "print(trees_arr)"
   ]
  },
  {
   "cell_type": "markdown",
   "metadata": {},
   "source": [
    "*Наблюдаем переобучение.*  \n",
    "  \n",
    "*Минимальное значение ошибки на обучающей и тестовой выборках:*"
   ]
  },
  {
   "cell_type": "code",
   "execution_count": 98,
   "metadata": {},
   "outputs": [
    {
     "name": "stdout",
     "output_type": "stream",
     "text": [
      "0.0901162790698 0.115942028986\n"
     ]
    }
   ],
   "source": [
    "min_train_err = np.min(train_err)\n",
    "min_test_err = np.min(test_err)\n",
    "print(min_train_err, min_test_err)"
   ]
  },
  {
   "cell_type": "markdown",
   "metadata": {},
   "source": [
    "*при котором оптимальное количество деревьев:*"
   ]
  },
  {
   "cell_type": "code",
   "execution_count": 99,
   "metadata": {},
   "outputs": [
    {
     "name": "stdout",
     "output_type": "stream",
     "text": [
      "14\n"
     ]
    }
   ],
   "source": [
    "trees_opt = trees_arr[test_err == min_test_err]\n",
    "trees_opt = trees_opt[0]\n",
    "print(trees_opt)"
   ]
  },
  {
   "cell_type": "markdown",
   "metadata": {},
   "source": [
    "## Principal component analysis (PCA)\n",
    "*Уменьшим размерность данных с помощью метода главных компонент. Далее проведем классификацию по классам с помощью классификатора Principal component analysis.*\n",
    "\n",
    "*Разобъем данные на тестовую и обучающую выборки*"
   ]
  },
  {
   "cell_type": "code",
   "execution_count": 121,
   "metadata": {
    "collapsed": true
   },
   "outputs": [],
   "source": [
    "X_train, X_test, y_train, y_test = train_test_split(X, y, test_size = 0.7, random_state = 6)"
   ]
  },
  {
   "cell_type": "markdown",
   "metadata": {},
   "source": [
    "*Обучаем PCA. Исходные данные содержат 15 столбцов. Уменьшим размерность до 13*"
   ]
  },
  {
   "cell_type": "code",
   "execution_count": 122,
   "metadata": {
    "collapsed": true
   },
   "outputs": [],
   "source": [
    "from sklearn import decomposition\n",
    "pca = decomposition.PCA(n_components = 13)\n",
    "X_train_reduc = pca.fit_transform(X_train)\n",
    "X_test_reduc = pca.transform(X_test)"
   ]
  },
  {
   "cell_type": "markdown",
   "metadata": {
    "collapsed": true
   },
   "source": [
    "*Обучаем классификатор вида Extremely Randomized Trees. Число деревьев = 100*"
   ]
  },
  {
   "cell_type": "code",
   "execution_count": 123,
   "metadata": {},
   "outputs": [
    {
     "data": {
      "text/plain": [
       "ExtraTreesClassifier(bootstrap=False, class_weight=None, criterion='gini',\n",
       "           max_depth=None, max_features='auto', max_leaf_nodes=None,\n",
       "           min_impurity_decrease=0.0, min_impurity_split=None,\n",
       "           min_samples_leaf=1, min_samples_split=2,\n",
       "           min_weight_fraction_leaf=0.0, n_estimators=100, n_jobs=1,\n",
       "           oob_score=False, random_state=None, verbose=0, warm_start=False)"
      ]
     },
     "execution_count": 123,
     "metadata": {},
     "output_type": "execute_result"
    }
   ],
   "source": [
    "ert = ensemble.ExtraTreesClassifier(n_estimators = 100)\n",
    "ert.fit(X_train_reduc, y_train)"
   ]
  },
  {
   "cell_type": "code",
   "execution_count": 124,
   "metadata": {},
   "outputs": [
    {
     "name": "stdout",
     "output_type": "stream",
     "text": [
      "0.0 0.171842650104\n"
     ]
    }
   ],
   "source": [
    "err_train = np.mean(y_train != ert.predict(X_train_reduc))\n",
    "err_test  = np.mean(y_test  != ert.predict(X_test_reduc))\n",
    "\n",
    "print(err_train, err_test)"
   ]
  },
  {
   "cell_type": "markdown",
   "metadata": {},
   "source": [
    "*Наблюдаем переобучение, т.к. ошибка на тестовой выборке оказалась выше, чем на обучающей, и составила ~0.17. Тестовая ошибка на не редуцированных данных (была получена ранее) составляла 0.14. На ошибку по обучающей выборке редукция размерности не повлияла.*\n",
    "\n",
    "*Построим график зависимости ошибки на тестовой и обучающей выборках от количества компонент в методе.*"
   ]
  },
  {
   "cell_type": "code",
   "execution_count": 125,
   "metadata": {},
   "outputs": [],
   "source": [
    "components_arr = np.arange(1, 15, 1)\n",
    "test_err = []\n",
    "train_err = []\n",
    "oob_err = []\n",
    "for components in components_arr:\n",
    "    pca = decomposition.PCA(n_components = components)\n",
    "    X_train_reduc = pca.fit_transform(X_train)\n",
    "    X_test_reduc = pca.transform(X_test)\n",
    "    ert = ensemble.ExtraTreesClassifier(n_estimators = 100, oob_score=True, bootstrap=True)\n",
    "    ert.fit(X_train_reduc, y_train)\n",
    "    train_err.append(np.mean(y_train != ert.predict(X_train_reduc)))\n",
    "    test_err.append(np.mean(y_test  != ert.predict(X_test_reduc)))\n",
    "    oob_err.append(1 - ert.oob_score_)"
   ]
  },
  {
   "cell_type": "code",
   "execution_count": 126,
   "metadata": {},
   "outputs": [
    {
     "data": {
      "image/png": "[encoded data removed]",
      "text/plain": [
       "<matplotlib.figure.Figure at 0x24c6a5f0f60>"
      ]
     },
     "metadata": {},
     "output_type": "display_data"
    }
   ],
   "source": [
    "plt.plot(components_arr, train_err, 'b-o', label = 'train')\n",
    "plt.plot(components_arr, test_err, 'r-o', label = 'test')\n",
    "plt.plot(components_arr, oob_err, 'g-o', label = 'oob')\n",
    "plt.xlim([np.max(components_arr), np.min(components_arr)])\n",
    "plt.title('Error vs. number of components')\n",
    "plt.xlabel('components')\n",
    "plt.ylabel('error')\n",
    "plt.legend()\n",
    "pass"
   ]
  },
  {
   "cell_type": "markdown",
   "metadata": {},
   "source": [
    "*На графике видно, что при большей редукции размерности ошибка на тестовой выборке возрастает, т.е. наблюдаем переобучение. Величина OOB-ошибки немного больше и также увеличивается при уменьшении числа компонент.*\n",
    "\n",
    "*Минимальное значение ошибки:*"
   ]
  },
  {
   "cell_type": "code",
   "execution_count": 127,
   "metadata": {},
   "outputs": [
    {
     "name": "stdout",
     "output_type": "stream",
     "text": [
      "0.0 0.144927536232\n"
     ]
    }
   ],
   "source": [
    "min_train_err = np.min(train_err)\n",
    "min_test_err = np.min(test_err)\n",
    "print(min_train_err, min_test_err)"
   ]
  },
  {
   "cell_type": "markdown",
   "metadata": {},
   "source": [
    "*при которой оптимальное количество компонент:*"
   ]
  },
  {
   "cell_type": "code",
   "execution_count": 128,
   "metadata": {},
   "outputs": [
    {
     "name": "stdout",
     "output_type": "stream",
     "text": [
      "14\n"
     ]
    }
   ],
   "source": [
    "components_opt = components_arr[test_err == min_test_err]\n",
    "components_opt = components_opt[0]\n",
    "print(components_opt)"
   ]
  }
 ],
 "metadata": {
  "kernelspec": {
   "display_name": "Python 3",
   "language": "python",
   "name": "python3"
  },
  "language_info": {
   "codemirror_mode": {
    "name": "ipython",
    "version": 3
   },
   "file_extension": ".py",
   "mimetype": "text/x-python",
   "name": "python",
   "nbconvert_exporter": "python",
   "pygments_lexer": "ipython3",
   "version": "3.6.2"
  }
 },
 "nbformat": 4,
 "nbformat_minor": 2
}
